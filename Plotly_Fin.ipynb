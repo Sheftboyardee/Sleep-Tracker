{
 "cells": [
  {
   "cell_type": "code",
   "execution_count": 2,
   "id": "1f6f19a1-abc4-4f49-9263-d14b1f558a4f",
   "metadata": {},
   "outputs": [],
   "source": [
    "import pandas as pd\n",
    "import numpy as np\n",
    "import matplotlib.pyplot as plt\n",
    "\n",
    "import plotly.graph_objects as go"
   ]
  },
  {
   "cell_type": "code",
   "execution_count": 3,
   "id": "ad4beb21-8f5b-431b-8332-b8c5443d7101",
   "metadata": {},
   "outputs": [
    {
     "data": {
      "text/html": [
       "<div>\n",
       "<style scoped>\n",
       "    .dataframe tbody tr th:only-of-type {\n",
       "        vertical-align: middle;\n",
       "    }\n",
       "\n",
       "    .dataframe tbody tr th {\n",
       "        vertical-align: top;\n",
       "    }\n",
       "\n",
       "    .dataframe thead th {\n",
       "        text-align: right;\n",
       "    }\n",
       "</style>\n",
       "<table border=\"1\" class=\"dataframe\">\n",
       "  <thead>\n",
       "    <tr style=\"text-align: right;\">\n",
       "      <th></th>\n",
       "      <th>date (night of)</th>\n",
       "      <th>location</th>\n",
       "      <th>sleep partner?</th>\n",
       "      <th>time to bed</th>\n",
       "      <th>time u woke up</th>\n",
       "      <th>total_sleep_time</th>\n",
       "      <th>quality of sleep</th>\n",
       "      <th>woke up?</th>\n",
       "      <th>remember dream?</th>\n",
       "      <th>Naps Taken?</th>\n",
       "      <th>length of nap(s) (min)</th>\n",
       "      <th>infirmities</th>\n",
       "    </tr>\n",
       "  </thead>\n",
       "  <tbody>\n",
       "    <tr>\n",
       "      <th>0</th>\n",
       "      <td>2/2/23</td>\n",
       "      <td>dorm</td>\n",
       "      <td>yes</td>\n",
       "      <td>12:05:00 AM</td>\n",
       "      <td>7:00:00 AM</td>\n",
       "      <td>6:55:00</td>\n",
       "      <td>2</td>\n",
       "      <td>yes</td>\n",
       "      <td>no</td>\n",
       "      <td>no</td>\n",
       "      <td>0</td>\n",
       "      <td>none</td>\n",
       "    </tr>\n",
       "    <tr>\n",
       "      <th>1</th>\n",
       "      <td>2/3/23</td>\n",
       "      <td>dorm</td>\n",
       "      <td>no</td>\n",
       "      <td>1:00:00 AM</td>\n",
       "      <td>9:36:00 AM</td>\n",
       "      <td>8:36:00</td>\n",
       "      <td>4</td>\n",
       "      <td>no</td>\n",
       "      <td>no</td>\n",
       "      <td>yes</td>\n",
       "      <td>10</td>\n",
       "      <td>none</td>\n",
       "    </tr>\n",
       "    <tr>\n",
       "      <th>2</th>\n",
       "      <td>2/4/23</td>\n",
       "      <td>dorm</td>\n",
       "      <td>no</td>\n",
       "      <td>12:30:00 AM</td>\n",
       "      <td>9:30:00 AM</td>\n",
       "      <td>9:00:00</td>\n",
       "      <td>3</td>\n",
       "      <td>no</td>\n",
       "      <td>no</td>\n",
       "      <td>no</td>\n",
       "      <td>0</td>\n",
       "      <td>none</td>\n",
       "    </tr>\n",
       "    <tr>\n",
       "      <th>3</th>\n",
       "      <td>2/5/23</td>\n",
       "      <td>dorm</td>\n",
       "      <td>no</td>\n",
       "      <td>1:00:00 AM</td>\n",
       "      <td>7:00:00 AM</td>\n",
       "      <td>6:00:00</td>\n",
       "      <td>4</td>\n",
       "      <td>no</td>\n",
       "      <td>no</td>\n",
       "      <td>no</td>\n",
       "      <td>0</td>\n",
       "      <td>none</td>\n",
       "    </tr>\n",
       "    <tr>\n",
       "      <th>4</th>\n",
       "      <td>2/6/23</td>\n",
       "      <td>dorm</td>\n",
       "      <td>yes</td>\n",
       "      <td>1:00:00 AM</td>\n",
       "      <td>9:30:00 AM</td>\n",
       "      <td>8:30:00</td>\n",
       "      <td>3</td>\n",
       "      <td>yes</td>\n",
       "      <td>no</td>\n",
       "      <td>no</td>\n",
       "      <td>0</td>\n",
       "      <td>none</td>\n",
       "    </tr>\n",
       "  </tbody>\n",
       "</table>\n",
       "</div>"
      ],
      "text/plain": [
       "  date (night of) location sleep partner?  time to bed time u woke up  \\\n",
       "0          2/2/23     dorm            yes  12:05:00 AM     7:00:00 AM   \n",
       "1          2/3/23     dorm             no   1:00:00 AM     9:36:00 AM   \n",
       "2          2/4/23     dorm             no  12:30:00 AM     9:30:00 AM   \n",
       "3          2/5/23     dorm             no   1:00:00 AM     7:00:00 AM   \n",
       "4          2/6/23     dorm            yes   1:00:00 AM     9:30:00 AM   \n",
       "\n",
       "  total_sleep_time  quality of sleep woke up? remember dream? Naps Taken?  \\\n",
       "0          6:55:00                 2      yes              no          no   \n",
       "1          8:36:00                 4       no              no         yes   \n",
       "2          9:00:00                 3       no              no          no   \n",
       "3          6:00:00                 4       no              no          no   \n",
       "4          8:30:00                 3      yes              no          no   \n",
       "\n",
       "   length of nap(s) (min) infirmities  \n",
       "0                       0        none  \n",
       "1                      10        none  \n",
       "2                       0        none  \n",
       "3                       0        none  \n",
       "4                       0        none  "
      ]
     },
     "execution_count": 3,
     "metadata": {},
     "output_type": "execute_result"
    }
   ],
   "source": [
    "data = pd.read_csv('sleep_tracker.csv').dropna()\n",
    "\n",
    "#data2 = data.copy()\n",
    "#data2['total sleep time'] = data2['total sleep time'].str.split(':').apply(lambda x: int(x[0]) * 60 + int(x[1]))\n",
    "data['naps taken in preceding day'] = data['naps taken in preceding day'].apply(lambda x: 'no' if x == 0 else 'yes')\n",
    "\n",
    "data['length of nap(s)'] = data['length of nap(s)'].str.replace(' min', '')\n",
    "data['length of nap(s)'] = data['length of nap(s)'].astype(int)\n",
    "data['quality of sleep'] = data['quality of sleep'].astype(int)\n",
    "\n",
    "data = data.rename(columns={'total sleep time': 'total_sleep_time', 'length of nap(s)': 'length of nap(s) (min)', 'naps taken in preceding day': 'Naps Taken?'})\n",
    "data.head()"
   ]
  },
  {
   "cell_type": "code",
   "execution_count": 4,
   "id": "4eccb74e-bd6c-42f2-bab6-a41396ab416e",
   "metadata": {},
   "outputs": [
    {
     "data": {
      "text/html": [
       "<div>\n",
       "<style scoped>\n",
       "    .dataframe tbody tr th:only-of-type {\n",
       "        vertical-align: middle;\n",
       "    }\n",
       "\n",
       "    .dataframe tbody tr th {\n",
       "        vertical-align: top;\n",
       "    }\n",
       "\n",
       "    .dataframe thead th {\n",
       "        text-align: right;\n",
       "    }\n",
       "</style>\n",
       "<table border=\"1\" class=\"dataframe\">\n",
       "  <thead>\n",
       "    <tr style=\"text-align: right;\">\n",
       "      <th></th>\n",
       "      <th>hours</th>\n",
       "      <th>minutes</th>\n",
       "      <th>seconds</th>\n",
       "    </tr>\n",
       "  </thead>\n",
       "  <tbody>\n",
       "    <tr>\n",
       "      <th>0</th>\n",
       "      <td>6</td>\n",
       "      <td>55</td>\n",
       "      <td>00</td>\n",
       "    </tr>\n",
       "    <tr>\n",
       "      <th>1</th>\n",
       "      <td>8</td>\n",
       "      <td>36</td>\n",
       "      <td>00</td>\n",
       "    </tr>\n",
       "  </tbody>\n",
       "</table>\n",
       "</div>"
      ],
      "text/plain": [
       "  hours minutes seconds\n",
       "0     6      55      00\n",
       "1     8      36      00"
      ]
     },
     "execution_count": 4,
     "metadata": {},
     "output_type": "execute_result"
    }
   ],
   "source": [
    "df = pd.DataFrame(columns=['hours','minutes', 'seconds'])\n",
    "df[['hours','minutes', 'seconds']] = (data['total_sleep_time']).str.split(':', expand = True)\n",
    "df_sorted = df.sort_values(by='hours', key=lambda x: pd.to_numeric(x, errors='coerce'), ascending = True)\n",
    "df.head(2)"
   ]
  },
  {
   "cell_type": "code",
   "execution_count": 6,
   "id": "6eae32d5-b203-453c-b029-bff7a5f9a768",
   "metadata": {},
   "outputs": [
    {
     "data": {
      "application/vnd.plotly.v1+json": {
       "config": {
        "plotlyServerURL": "https://plot.ly"
       },
       "data": [
        {
         "dimensions": [
          {
           "categoryarray": [
            1,
            2,
            3,
            4,
            5
           ],
           "categoryorder": "array",
           "label": "Sleep Quality",
           "values": [
            2,
            4,
            3,
            4,
            3,
            4,
            4,
            5,
            3,
            3,
            3,
            3,
            3,
            4,
            3,
            2,
            3,
            2,
            1,
            3,
            4,
            3,
            4,
            3,
            3,
            4,
            3,
            3,
            2,
            3,
            3,
            3,
            3,
            3,
            3,
            3,
            4,
            4,
            3,
            4,
            4,
            3,
            4,
            4,
            4,
            3,
            3,
            3,
            3,
            3,
            2,
            4,
            3,
            2,
            3,
            2,
            3,
            4,
            3
           ]
          },
          {
           "categoryarray": [
            "dorm",
            "home"
           ],
           "categoryorder": "array",
           "label": "Location",
           "ticktext": [
            "Dorm",
            "Home"
           ],
           "values": [
            "dorm",
            "dorm",
            "dorm",
            "dorm",
            "dorm",
            "dorm",
            "dorm",
            "home",
            "dorm",
            "dorm",
            "dorm",
            "dorm",
            "dorm",
            "dorm",
            "dorm",
            "dorm",
            "dorm",
            "dorm",
            "dorm",
            "dorm",
            "dorm",
            "dorm",
            "dorm",
            "dorm",
            "dorm",
            "dorm",
            "dorm",
            "dorm",
            "dorm",
            "dorm",
            "dorm",
            "dorm",
            "dorm",
            "dorm",
            "dorm",
            "dorm",
            "home",
            "home",
            "home",
            "home",
            "home",
            "home",
            "home",
            "home",
            "home",
            "dorm",
            "dorm",
            "dorm",
            "dorm",
            "dorm",
            "dorm",
            "dorm",
            "dorm",
            "dorm",
            "dorm",
            "dorm",
            "dorm",
            "dorm",
            "dorm"
           ]
          },
          {
           "categoryarray": [
            "yes",
            "no"
           ],
           "categoryorder": "array",
           "label": "Sleep Partner?",
           "ticktext": [
            "Yes",
            "No"
           ],
           "values": [
            "yes",
            "no",
            "no",
            "no",
            "yes",
            "no",
            "yes",
            "no",
            "yes",
            "no",
            "no",
            "no",
            "no",
            "yes",
            "no",
            "yes",
            "yes",
            "no",
            "yes",
            "no",
            "yes",
            "no",
            "yes",
            "yes",
            "no",
            "no",
            "no",
            "no",
            "no",
            "yes",
            "yes",
            "no",
            "no",
            "no",
            "no",
            "yes",
            "no",
            "no",
            "no",
            "no",
            "no",
            "no",
            "no",
            "no",
            "no",
            "yes",
            "no",
            "no",
            "yes",
            "no",
            "yes",
            "no",
            "no",
            "yes",
            "no",
            "yes",
            "no",
            "no",
            "yes"
           ]
          },
          {
           "categoryarray": [
            "yes",
            "no"
           ],
           "categoryorder": "array",
           "label": "Nap Taken?",
           "ticktext": [
            "Yes",
            "No"
           ],
           "values": [
            "no",
            "yes",
            "no",
            "no",
            "no",
            "no",
            "yes",
            "no",
            "no",
            "no",
            "no",
            "yes",
            "no",
            "no",
            "no",
            "yes",
            "no",
            "no",
            "yes",
            "no",
            "yes",
            "no",
            "no",
            "yes",
            "no",
            "yes",
            "no",
            "yes",
            "no",
            "yes",
            "no",
            "no",
            "no",
            "no",
            "no",
            "no",
            "no",
            "no",
            "no",
            "no",
            "no",
            "no",
            "no",
            "no",
            "no",
            "no",
            "no",
            "yes",
            "no",
            "no",
            "no",
            "no",
            "yes",
            "yes",
            "no",
            "yes",
            "no",
            "no",
            "no"
           ]
          },
          {
           "categoryarray": [
            3,
            4,
            5,
            6,
            7,
            8,
            9,
            10
           ],
           "categoryorder": "array",
           "label": "Total Sleep (Hours)",
           "values": [
            "6",
            "8",
            "9",
            "6",
            "8",
            "5",
            "9",
            "7",
            "8",
            "8",
            "6",
            "8",
            "6",
            "8",
            "6",
            "9",
            "8",
            "4",
            "3",
            "5",
            "8",
            "5",
            "7",
            "7",
            "6",
            "9",
            "6",
            "8",
            "3",
            "7",
            "9",
            "6",
            "8",
            "5",
            "7",
            "7",
            "10",
            "8",
            "6",
            "7",
            "9",
            "5",
            "7",
            "7",
            "8",
            "6",
            "6",
            "5",
            "7",
            "4",
            "8",
            "8",
            "5",
            "9",
            "5",
            "7",
            "4",
            "8",
            "7"
           ]
          }
         ],
         "hoverinfo": "count+probability",
         "labelfont": {
          "family": "Arial",
          "size": 18
         },
         "line": {
          "color": [
           2,
           4,
           3,
           4,
           3,
           4,
           4,
           5,
           3,
           3,
           3,
           3,
           3,
           4,
           3,
           2,
           3,
           2,
           1,
           3,
           4,
           3,
           4,
           3,
           3,
           4,
           3,
           3,
           2,
           3,
           3,
           3,
           3,
           3,
           3,
           3,
           4,
           4,
           3,
           4,
           4,
           3,
           4,
           4,
           4,
           3,
           3,
           3,
           3,
           3,
           2,
           4,
           3,
           2,
           3,
           2,
           3,
           4,
           3
          ],
          "colorscale": [
           [
            0,
            "#000004"
           ],
           [
            0.1111111111111111,
            "#1b0c41"
           ],
           [
            0.2222222222222222,
            "#4a0c6b"
           ],
           [
            0.3333333333333333,
            "#781c6d"
           ],
           [
            0.4444444444444444,
            "#a52c60"
           ],
           [
            0.5555555555555556,
            "#cf4446"
           ],
           [
            0.6666666666666666,
            "#ed6925"
           ],
           [
            0.7777777777777778,
            "#fb9b06"
           ],
           [
            0.8888888888888888,
            "#f7d13d"
           ],
           [
            1,
            "#fcffa4"
           ]
          ],
          "shape": "hspline"
         },
         "tickfont": {
          "family": "Arial",
          "size": 14
         },
         "type": "parcats"
        }
       ],
       "layout": {
        "autosize": true,
        "template": {
         "data": {
          "bar": [
           {
            "error_x": {
             "color": "#2a3f5f"
            },
            "error_y": {
             "color": "#2a3f5f"
            },
            "marker": {
             "line": {
              "color": "#E5ECF6",
              "width": 0.5
             },
             "pattern": {
              "fillmode": "overlay",
              "size": 10,
              "solidity": 0.2
             }
            },
            "type": "bar"
           }
          ],
          "barpolar": [
           {
            "marker": {
             "line": {
              "color": "#E5ECF6",
              "width": 0.5
             },
             "pattern": {
              "fillmode": "overlay",
              "size": 10,
              "solidity": 0.2
             }
            },
            "type": "barpolar"
           }
          ],
          "carpet": [
           {
            "aaxis": {
             "endlinecolor": "#2a3f5f",
             "gridcolor": "white",
             "linecolor": "white",
             "minorgridcolor": "white",
             "startlinecolor": "#2a3f5f"
            },
            "baxis": {
             "endlinecolor": "#2a3f5f",
             "gridcolor": "white",
             "linecolor": "white",
             "minorgridcolor": "white",
             "startlinecolor": "#2a3f5f"
            },
            "type": "carpet"
           }
          ],
          "choropleth": [
           {
            "colorbar": {
             "outlinewidth": 0,
             "ticks": ""
            },
            "type": "choropleth"
           }
          ],
          "contour": [
           {
            "colorbar": {
             "outlinewidth": 0,
             "ticks": ""
            },
            "colorscale": [
             [
              0,
              "#0d0887"
             ],
             [
              0.1111111111111111,
              "#46039f"
             ],
             [
              0.2222222222222222,
              "#7201a8"
             ],
             [
              0.3333333333333333,
              "#9c179e"
             ],
             [
              0.4444444444444444,
              "#bd3786"
             ],
             [
              0.5555555555555556,
              "#d8576b"
             ],
             [
              0.6666666666666666,
              "#ed7953"
             ],
             [
              0.7777777777777778,
              "#fb9f3a"
             ],
             [
              0.8888888888888888,
              "#fdca26"
             ],
             [
              1,
              "#f0f921"
             ]
            ],
            "type": "contour"
           }
          ],
          "contourcarpet": [
           {
            "colorbar": {
             "outlinewidth": 0,
             "ticks": ""
            },
            "type": "contourcarpet"
           }
          ],
          "heatmap": [
           {
            "colorbar": {
             "outlinewidth": 0,
             "ticks": ""
            },
            "colorscale": [
             [
              0,
              "#0d0887"
             ],
             [
              0.1111111111111111,
              "#46039f"
             ],
             [
              0.2222222222222222,
              "#7201a8"
             ],
             [
              0.3333333333333333,
              "#9c179e"
             ],
             [
              0.4444444444444444,
              "#bd3786"
             ],
             [
              0.5555555555555556,
              "#d8576b"
             ],
             [
              0.6666666666666666,
              "#ed7953"
             ],
             [
              0.7777777777777778,
              "#fb9f3a"
             ],
             [
              0.8888888888888888,
              "#fdca26"
             ],
             [
              1,
              "#f0f921"
             ]
            ],
            "type": "heatmap"
           }
          ],
          "heatmapgl": [
           {
            "colorbar": {
             "outlinewidth": 0,
             "ticks": ""
            },
            "colorscale": [
             [
              0,
              "#0d0887"
             ],
             [
              0.1111111111111111,
              "#46039f"
             ],
             [
              0.2222222222222222,
              "#7201a8"
             ],
             [
              0.3333333333333333,
              "#9c179e"
             ],
             [
              0.4444444444444444,
              "#bd3786"
             ],
             [
              0.5555555555555556,
              "#d8576b"
             ],
             [
              0.6666666666666666,
              "#ed7953"
             ],
             [
              0.7777777777777778,
              "#fb9f3a"
             ],
             [
              0.8888888888888888,
              "#fdca26"
             ],
             [
              1,
              "#f0f921"
             ]
            ],
            "type": "heatmapgl"
           }
          ],
          "histogram": [
           {
            "marker": {
             "pattern": {
              "fillmode": "overlay",
              "size": 10,
              "solidity": 0.2
             }
            },
            "type": "histogram"
           }
          ],
          "histogram2d": [
           {
            "colorbar": {
             "outlinewidth": 0,
             "ticks": ""
            },
            "colorscale": [
             [
              0,
              "#0d0887"
             ],
             [
              0.1111111111111111,
              "#46039f"
             ],
             [
              0.2222222222222222,
              "#7201a8"
             ],
             [
              0.3333333333333333,
              "#9c179e"
             ],
             [
              0.4444444444444444,
              "#bd3786"
             ],
             [
              0.5555555555555556,
              "#d8576b"
             ],
             [
              0.6666666666666666,
              "#ed7953"
             ],
             [
              0.7777777777777778,
              "#fb9f3a"
             ],
             [
              0.8888888888888888,
              "#fdca26"
             ],
             [
              1,
              "#f0f921"
             ]
            ],
            "type": "histogram2d"
           }
          ],
          "histogram2dcontour": [
           {
            "colorbar": {
             "outlinewidth": 0,
             "ticks": ""
            },
            "colorscale": [
             [
              0,
              "#0d0887"
             ],
             [
              0.1111111111111111,
              "#46039f"
             ],
             [
              0.2222222222222222,
              "#7201a8"
             ],
             [
              0.3333333333333333,
              "#9c179e"
             ],
             [
              0.4444444444444444,
              "#bd3786"
             ],
             [
              0.5555555555555556,
              "#d8576b"
             ],
             [
              0.6666666666666666,
              "#ed7953"
             ],
             [
              0.7777777777777778,
              "#fb9f3a"
             ],
             [
              0.8888888888888888,
              "#fdca26"
             ],
             [
              1,
              "#f0f921"
             ]
            ],
            "type": "histogram2dcontour"
           }
          ],
          "mesh3d": [
           {
            "colorbar": {
             "outlinewidth": 0,
             "ticks": ""
            },
            "type": "mesh3d"
           }
          ],
          "parcoords": [
           {
            "line": {
             "colorbar": {
              "outlinewidth": 0,
              "ticks": ""
             }
            },
            "type": "parcoords"
           }
          ],
          "pie": [
           {
            "automargin": true,
            "type": "pie"
           }
          ],
          "scatter": [
           {
            "fillpattern": {
             "fillmode": "overlay",
             "size": 10,
             "solidity": 0.2
            },
            "type": "scatter"
           }
          ],
          "scatter3d": [
           {
            "line": {
             "colorbar": {
              "outlinewidth": 0,
              "ticks": ""
             }
            },
            "marker": {
             "colorbar": {
              "outlinewidth": 0,
              "ticks": ""
             }
            },
            "type": "scatter3d"
           }
          ],
          "scattercarpet": [
           {
            "marker": {
             "colorbar": {
              "outlinewidth": 0,
              "ticks": ""
             }
            },
            "type": "scattercarpet"
           }
          ],
          "scattergeo": [
           {
            "marker": {
             "colorbar": {
              "outlinewidth": 0,
              "ticks": ""
             }
            },
            "type": "scattergeo"
           }
          ],
          "scattergl": [
           {
            "marker": {
             "colorbar": {
              "outlinewidth": 0,
              "ticks": ""
             }
            },
            "type": "scattergl"
           }
          ],
          "scattermapbox": [
           {
            "marker": {
             "colorbar": {
              "outlinewidth": 0,
              "ticks": ""
             }
            },
            "type": "scattermapbox"
           }
          ],
          "scatterpolar": [
           {
            "marker": {
             "colorbar": {
              "outlinewidth": 0,
              "ticks": ""
             }
            },
            "type": "scatterpolar"
           }
          ],
          "scatterpolargl": [
           {
            "marker": {
             "colorbar": {
              "outlinewidth": 0,
              "ticks": ""
             }
            },
            "type": "scatterpolargl"
           }
          ],
          "scatterternary": [
           {
            "marker": {
             "colorbar": {
              "outlinewidth": 0,
              "ticks": ""
             }
            },
            "type": "scatterternary"
           }
          ],
          "surface": [
           {
            "colorbar": {
             "outlinewidth": 0,
             "ticks": ""
            },
            "colorscale": [
             [
              0,
              "#0d0887"
             ],
             [
              0.1111111111111111,
              "#46039f"
             ],
             [
              0.2222222222222222,
              "#7201a8"
             ],
             [
              0.3333333333333333,
              "#9c179e"
             ],
             [
              0.4444444444444444,
              "#bd3786"
             ],
             [
              0.5555555555555556,
              "#d8576b"
             ],
             [
              0.6666666666666666,
              "#ed7953"
             ],
             [
              0.7777777777777778,
              "#fb9f3a"
             ],
             [
              0.8888888888888888,
              "#fdca26"
             ],
             [
              1,
              "#f0f921"
             ]
            ],
            "type": "surface"
           }
          ],
          "table": [
           {
            "cells": {
             "fill": {
              "color": "#EBF0F8"
             },
             "line": {
              "color": "white"
             }
            },
            "header": {
             "fill": {
              "color": "#C8D4E3"
             },
             "line": {
              "color": "white"
             }
            },
            "type": "table"
           }
          ]
         },
         "layout": {
          "annotationdefaults": {
           "arrowcolor": "#2a3f5f",
           "arrowhead": 0,
           "arrowwidth": 1
          },
          "autotypenumbers": "strict",
          "coloraxis": {
           "colorbar": {
            "outlinewidth": 0,
            "ticks": ""
           }
          },
          "colorscale": {
           "diverging": [
            [
             0,
             "#8e0152"
            ],
            [
             0.1,
             "#c51b7d"
            ],
            [
             0.2,
             "#de77ae"
            ],
            [
             0.3,
             "#f1b6da"
            ],
            [
             0.4,
             "#fde0ef"
            ],
            [
             0.5,
             "#f7f7f7"
            ],
            [
             0.6,
             "#e6f5d0"
            ],
            [
             0.7,
             "#b8e186"
            ],
            [
             0.8,
             "#7fbc41"
            ],
            [
             0.9,
             "#4d9221"
            ],
            [
             1,
             "#276419"
            ]
           ],
           "sequential": [
            [
             0,
             "#0d0887"
            ],
            [
             0.1111111111111111,
             "#46039f"
            ],
            [
             0.2222222222222222,
             "#7201a8"
            ],
            [
             0.3333333333333333,
             "#9c179e"
            ],
            [
             0.4444444444444444,
             "#bd3786"
            ],
            [
             0.5555555555555556,
             "#d8576b"
            ],
            [
             0.6666666666666666,
             "#ed7953"
            ],
            [
             0.7777777777777778,
             "#fb9f3a"
            ],
            [
             0.8888888888888888,
             "#fdca26"
            ],
            [
             1,
             "#f0f921"
            ]
           ],
           "sequentialminus": [
            [
             0,
             "#0d0887"
            ],
            [
             0.1111111111111111,
             "#46039f"
            ],
            [
             0.2222222222222222,
             "#7201a8"
            ],
            [
             0.3333333333333333,
             "#9c179e"
            ],
            [
             0.4444444444444444,
             "#bd3786"
            ],
            [
             0.5555555555555556,
             "#d8576b"
            ],
            [
             0.6666666666666666,
             "#ed7953"
            ],
            [
             0.7777777777777778,
             "#fb9f3a"
            ],
            [
             0.8888888888888888,
             "#fdca26"
            ],
            [
             1,
             "#f0f921"
            ]
           ]
          },
          "colorway": [
           "#636efa",
           "#EF553B",
           "#00cc96",
           "#ab63fa",
           "#FFA15A",
           "#19d3f3",
           "#FF6692",
           "#B6E880",
           "#FF97FF",
           "#FECB52"
          ],
          "font": {
           "color": "#2a3f5f"
          },
          "geo": {
           "bgcolor": "white",
           "lakecolor": "white",
           "landcolor": "#E5ECF6",
           "showlakes": true,
           "showland": true,
           "subunitcolor": "white"
          },
          "hoverlabel": {
           "align": "left"
          },
          "hovermode": "closest",
          "mapbox": {
           "style": "light"
          },
          "paper_bgcolor": "white",
          "plot_bgcolor": "#E5ECF6",
          "polar": {
           "angularaxis": {
            "gridcolor": "white",
            "linecolor": "white",
            "ticks": ""
           },
           "bgcolor": "#E5ECF6",
           "radialaxis": {
            "gridcolor": "white",
            "linecolor": "white",
            "ticks": ""
           }
          },
          "scene": {
           "xaxis": {
            "backgroundcolor": "#E5ECF6",
            "gridcolor": "white",
            "gridwidth": 2,
            "linecolor": "white",
            "showbackground": true,
            "ticks": "",
            "zerolinecolor": "white"
           },
           "yaxis": {
            "backgroundcolor": "#E5ECF6",
            "gridcolor": "white",
            "gridwidth": 2,
            "linecolor": "white",
            "showbackground": true,
            "ticks": "",
            "zerolinecolor": "white"
           },
           "zaxis": {
            "backgroundcolor": "#E5ECF6",
            "gridcolor": "white",
            "gridwidth": 2,
            "linecolor": "white",
            "showbackground": true,
            "ticks": "",
            "zerolinecolor": "white"
           }
          },
          "shapedefaults": {
           "line": {
            "color": "#2a3f5f"
           }
          },
          "ternary": {
           "aaxis": {
            "gridcolor": "white",
            "linecolor": "white",
            "ticks": ""
           },
           "baxis": {
            "gridcolor": "white",
            "linecolor": "white",
            "ticks": ""
           },
           "bgcolor": "#E5ECF6",
           "caxis": {
            "gridcolor": "white",
            "linecolor": "white",
            "ticks": ""
           }
          },
          "title": {
           "x": 0.05
          },
          "xaxis": {
           "automargin": true,
           "gridcolor": "white",
           "linecolor": "white",
           "ticks": "",
           "title": {
            "standoff": 15
           },
           "zerolinecolor": "white",
           "zerolinewidth": 2
          },
          "yaxis": {
           "automargin": true,
           "gridcolor": "white",
           "linecolor": "white",
           "ticks": "",
           "title": {
            "standoff": 15
           },
           "zerolinecolor": "white",
           "zerolinewidth": 2
          }
         }
        },
        "title": {
         "font": {
          "family": "Arial",
          "size": 24
         },
         "text": "Measure of Sleep Quality"
        }
       }
      },
      "image/png": "[encoded data removed]",
      "text/html": [
       "<div>                            <div id=\"e2bf5b32-ad26-418d-a32a-918596d21fd6\" class=\"plotly-graph-div\" style=\"height:525px; width:100%;\"></div>            <script type=\"text/javascript\">                require([\"plotly\"], function(Plotly) {                    window.PLOTLYENV=window.PLOTLYENV || {};                                    if (document.getElementById(\"e2bf5b32-ad26-418d-a32a-918596d21fd6\")) {                    Plotly.newPlot(                        \"e2bf5b32-ad26-418d-a32a-918596d21fd6\",                        [{\"dimensions\":[{\"categoryarray\":[1,2,3,4,5],\"categoryorder\":\"array\",\"label\":\"Sleep Quality\",\"values\":[2,4,3,4,3,4,4,5,3,3,3,3,3,4,3,2,3,2,1,3,4,3,4,3,3,4,3,3,2,3,3,3,3,3,3,3,4,4,3,4,4,3,4,4,4,3,3,3,3,3,2,4,3,2,3,2,3,4,3]},{\"categoryarray\":[\"dorm\",\"home\"],\"categoryorder\":\"array\",\"label\":\"Location\",\"ticktext\":[\"Dorm\",\"Home\"],\"values\":[\"dorm\",\"dorm\",\"dorm\",\"dorm\",\"dorm\",\"dorm\",\"dorm\",\"home\",\"dorm\",\"dorm\",\"dorm\",\"dorm\",\"dorm\",\"dorm\",\"dorm\",\"dorm\",\"dorm\",\"dorm\",\"dorm\",\"dorm\",\"dorm\",\"dorm\",\"dorm\",\"dorm\",\"dorm\",\"dorm\",\"dorm\",\"dorm\",\"dorm\",\"dorm\",\"dorm\",\"dorm\",\"dorm\",\"dorm\",\"dorm\",\"dorm\",\"home\",\"home\",\"home\",\"home\",\"home\",\"home\",\"home\",\"home\",\"home\",\"dorm\",\"dorm\",\"dorm\",\"dorm\",\"dorm\",\"dorm\",\"dorm\",\"dorm\",\"dorm\",\"dorm\",\"dorm\",\"dorm\",\"dorm\",\"dorm\"]},{\"categoryarray\":[\"yes\",\"no\"],\"categoryorder\":\"array\",\"label\":\"Sleep Partner?\",\"ticktext\":[\"Yes\",\"No\"],\"values\":[\"yes\",\"no\",\"no\",\"no\",\"yes\",\"no\",\"yes\",\"no\",\"yes\",\"no\",\"no\",\"no\",\"no\",\"yes\",\"no\",\"yes\",\"yes\",\"no\",\"yes\",\"no\",\"yes\",\"no\",\"yes\",\"yes\",\"no\",\"no\",\"no\",\"no\",\"no\",\"yes\",\"yes\",\"no\",\"no\",\"no\",\"no\",\"yes\",\"no\",\"no\",\"no\",\"no\",\"no\",\"no\",\"no\",\"no\",\"no\",\"yes\",\"no\",\"no\",\"yes\",\"no\",\"yes\",\"no\",\"no\",\"yes\",\"no\",\"yes\",\"no\",\"no\",\"yes\"]},{\"categoryarray\":[\"yes\",\"no\"],\"categoryorder\":\"array\",\"label\":\"Nap Taken?\",\"ticktext\":[\"Yes\",\"No\"],\"values\":[\"no\",\"yes\",\"no\",\"no\",\"no\",\"no\",\"yes\",\"no\",\"no\",\"no\",\"no\",\"yes\",\"no\",\"no\",\"no\",\"yes\",\"no\",\"no\",\"yes\",\"no\",\"yes\",\"no\",\"no\",\"yes\",\"no\",\"yes\",\"no\",\"yes\",\"no\",\"yes\",\"no\",\"no\",\"no\",\"no\",\"no\",\"no\",\"no\",\"no\",\"no\",\"no\",\"no\",\"no\",\"no\",\"no\",\"no\",\"no\",\"no\",\"yes\",\"no\",\"no\",\"no\",\"no\",\"yes\",\"yes\",\"no\",\"yes\",\"no\",\"no\",\"no\"]},{\"categoryarray\":[3,4,5,6,7,8,9,10],\"categoryorder\":\"array\",\"label\":\"Total Sleep (Hours)\",\"values\":[\"6\",\"8\",\"9\",\"6\",\"8\",\"5\",\"9\",\"7\",\"8\",\"8\",\"6\",\"8\",\"6\",\"8\",\"6\",\"9\",\"8\",\"4\",\"3\",\"5\",\"8\",\"5\",\"7\",\"7\",\"6\",\"9\",\"6\",\"8\",\"3\",\"7\",\"9\",\"6\",\"8\",\"5\",\"7\",\"7\",\"10\",\"8\",\"6\",\"7\",\"9\",\"5\",\"7\",\"7\",\"8\",\"6\",\"6\",\"5\",\"7\",\"4\",\"8\",\"8\",\"5\",\"9\",\"5\",\"7\",\"4\",\"8\",\"7\"]}],\"hoverinfo\":\"count+probability\",\"labelfont\":{\"family\":\"Arial\",\"size\":18},\"line\":{\"color\":[2,4,3,4,3,4,4,5,3,3,3,3,3,4,3,2,3,2,1,3,4,3,4,3,3,4,3,3,2,3,3,3,3,3,3,3,4,4,3,4,4,3,4,4,4,3,3,3,3,3,2,4,3,2,3,2,3,4,3],\"colorscale\":[[0.0,\"#000004\"],[0.1111111111111111,\"#1b0c41\"],[0.2222222222222222,\"#4a0c6b\"],[0.3333333333333333,\"#781c6d\"],[0.4444444444444444,\"#a52c60\"],[0.5555555555555556,\"#cf4446\"],[0.6666666666666666,\"#ed6925\"],[0.7777777777777778,\"#fb9b06\"],[0.8888888888888888,\"#f7d13d\"],[1.0,\"#fcffa4\"]],\"shape\":\"hspline\"},\"tickfont\":{\"family\":\"Arial\",\"size\":14},\"type\":\"parcats\"}],                        {\"template\":{\"data\":{\"histogram2dcontour\":[{\"type\":\"histogram2dcontour\",\"colorbar\":{\"outlinewidth\":0,\"ticks\":\"\"},\"colorscale\":[[0.0,\"#0d0887\"],[0.1111111111111111,\"#46039f\"],[0.2222222222222222,\"#7201a8\"],[0.3333333333333333,\"#9c179e\"],[0.4444444444444444,\"#bd3786\"],[0.5555555555555556,\"#d8576b\"],[0.6666666666666666,\"#ed7953\"],[0.7777777777777778,\"#fb9f3a\"],[0.8888888888888888,\"#fdca26\"],[1.0,\"#f0f921\"]]}],\"choropleth\":[{\"type\":\"choropleth\",\"colorbar\":{\"outlinewidth\":0,\"ticks\":\"\"}}],\"histogram2d\":[{\"type\":\"histogram2d\",\"colorbar\":{\"outlinewidth\":0,\"ticks\":\"\"},\"colorscale\":[[0.0,\"#0d0887\"],[0.1111111111111111,\"#46039f\"],[0.2222222222222222,\"#7201a8\"],[0.3333333333333333,\"#9c179e\"],[0.4444444444444444,\"#bd3786\"],[0.5555555555555556,\"#d8576b\"],[0.6666666666666666,\"#ed7953\"],[0.7777777777777778,\"#fb9f3a\"],[0.8888888888888888,\"#fdca26\"],[1.0,\"#f0f921\"]]}],\"heatmap\":[{\"type\":\"heatmap\",\"colorbar\":{\"outlinewidth\":0,\"ticks\":\"\"},\"colorscale\":[[0.0,\"#0d0887\"],[0.1111111111111111,\"#46039f\"],[0.2222222222222222,\"#7201a8\"],[0.3333333333333333,\"#9c179e\"],[0.4444444444444444,\"#bd3786\"],[0.5555555555555556,\"#d8576b\"],[0.6666666666666666,\"#ed7953\"],[0.7777777777777778,\"#fb9f3a\"],[0.8888888888888888,\"#fdca26\"],[1.0,\"#f0f921\"]]}],\"heatmapgl\":[{\"type\":\"heatmapgl\",\"colorbar\":{\"outlinewidth\":0,\"ticks\":\"\"},\"colorscale\":[[0.0,\"#0d0887\"],[0.1111111111111111,\"#46039f\"],[0.2222222222222222,\"#7201a8\"],[0.3333333333333333,\"#9c179e\"],[0.4444444444444444,\"#bd3786\"],[0.5555555555555556,\"#d8576b\"],[0.6666666666666666,\"#ed7953\"],[0.7777777777777778,\"#fb9f3a\"],[0.8888888888888888,\"#fdca26\"],[1.0,\"#f0f921\"]]}],\"contourcarpet\":[{\"type\":\"contourcarpet\",\"colorbar\":{\"outlinewidth\":0,\"ticks\":\"\"}}],\"contour\":[{\"type\":\"contour\",\"colorbar\":{\"outlinewidth\":0,\"ticks\":\"\"},\"colorscale\":[[0.0,\"#0d0887\"],[0.1111111111111111,\"#46039f\"],[0.2222222222222222,\"#7201a8\"],[0.3333333333333333,\"#9c179e\"],[0.4444444444444444,\"#bd3786\"],[0.5555555555555556,\"#d8576b\"],[0.6666666666666666,\"#ed7953\"],[0.7777777777777778,\"#fb9f3a\"],[0.8888888888888888,\"#fdca26\"],[1.0,\"#f0f921\"]]}],\"surface\":[{\"type\":\"surface\",\"colorbar\":{\"outlinewidth\":0,\"ticks\":\"\"},\"colorscale\":[[0.0,\"#0d0887\"],[0.1111111111111111,\"#46039f\"],[0.2222222222222222,\"#7201a8\"],[0.3333333333333333,\"#9c179e\"],[0.4444444444444444,\"#bd3786\"],[0.5555555555555556,\"#d8576b\"],[0.6666666666666666,\"#ed7953\"],[0.7777777777777778,\"#fb9f3a\"],[0.8888888888888888,\"#fdca26\"],[1.0,\"#f0f921\"]]}],\"mesh3d\":[{\"type\":\"mesh3d\",\"colorbar\":{\"outlinewidth\":0,\"ticks\":\"\"}}],\"scatter\":[{\"fillpattern\":{\"fillmode\":\"overlay\",\"size\":10,\"solidity\":0.2},\"type\":\"scatter\"}],\"parcoords\":[{\"type\":\"parcoords\",\"line\":{\"colorbar\":{\"outlinewidth\":0,\"ticks\":\"\"}}}],\"scatterpolargl\":[{\"type\":\"scatterpolargl\",\"marker\":{\"colorbar\":{\"outlinewidth\":0,\"ticks\":\"\"}}}],\"bar\":[{\"error_x\":{\"color\":\"#2a3f5f\"},\"error_y\":{\"color\":\"#2a3f5f\"},\"marker\":{\"line\":{\"color\":\"#E5ECF6\",\"width\":0.5},\"pattern\":{\"fillmode\":\"overlay\",\"size\":10,\"solidity\":0.2}},\"type\":\"bar\"}],\"scattergeo\":[{\"type\":\"scattergeo\",\"marker\":{\"colorbar\":{\"outlinewidth\":0,\"ticks\":\"\"}}}],\"scatterpolar\":[{\"type\":\"scatterpolar\",\"marker\":{\"colorbar\":{\"outlinewidth\":0,\"ticks\":\"\"}}}],\"histogram\":[{\"marker\":{\"pattern\":{\"fillmode\":\"overlay\",\"size\":10,\"solidity\":0.2}},\"type\":\"histogram\"}],\"scattergl\":[{\"type\":\"scattergl\",\"marker\":{\"colorbar\":{\"outlinewidth\":0,\"ticks\":\"\"}}}],\"scatter3d\":[{\"type\":\"scatter3d\",\"line\":{\"colorbar\":{\"outlinewidth\":0,\"ticks\":\"\"}},\"marker\":{\"colorbar\":{\"outlinewidth\":0,\"ticks\":\"\"}}}],\"scattermapbox\":[{\"type\":\"scattermapbox\",\"marker\":{\"colorbar\":{\"outlinewidth\":0,\"ticks\":\"\"}}}],\"scatterternary\":[{\"type\":\"scatterternary\",\"marker\":{\"colorbar\":{\"outlinewidth\":0,\"ticks\":\"\"}}}],\"scattercarpet\":[{\"type\":\"scattercarpet\",\"marker\":{\"colorbar\":{\"outlinewidth\":0,\"ticks\":\"\"}}}],\"carpet\":[{\"aaxis\":{\"endlinecolor\":\"#2a3f5f\",\"gridcolor\":\"white\",\"linecolor\":\"white\",\"minorgridcolor\":\"white\",\"startlinecolor\":\"#2a3f5f\"},\"baxis\":{\"endlinecolor\":\"#2a3f5f\",\"gridcolor\":\"white\",\"linecolor\":\"white\",\"minorgridcolor\":\"white\",\"startlinecolor\":\"#2a3f5f\"},\"type\":\"carpet\"}],\"table\":[{\"cells\":{\"fill\":{\"color\":\"#EBF0F8\"},\"line\":{\"color\":\"white\"}},\"header\":{\"fill\":{\"color\":\"#C8D4E3\"},\"line\":{\"color\":\"white\"}},\"type\":\"table\"}],\"barpolar\":[{\"marker\":{\"line\":{\"color\":\"#E5ECF6\",\"width\":0.5},\"pattern\":{\"fillmode\":\"overlay\",\"size\":10,\"solidity\":0.2}},\"type\":\"barpolar\"}],\"pie\":[{\"automargin\":true,\"type\":\"pie\"}]},\"layout\":{\"autotypenumbers\":\"strict\",\"colorway\":[\"#636efa\",\"#EF553B\",\"#00cc96\",\"#ab63fa\",\"#FFA15A\",\"#19d3f3\",\"#FF6692\",\"#B6E880\",\"#FF97FF\",\"#FECB52\"],\"font\":{\"color\":\"#2a3f5f\"},\"hovermode\":\"closest\",\"hoverlabel\":{\"align\":\"left\"},\"paper_bgcolor\":\"white\",\"plot_bgcolor\":\"#E5ECF6\",\"polar\":{\"bgcolor\":\"#E5ECF6\",\"angularaxis\":{\"gridcolor\":\"white\",\"linecolor\":\"white\",\"ticks\":\"\"},\"radialaxis\":{\"gridcolor\":\"white\",\"linecolor\":\"white\",\"ticks\":\"\"}},\"ternary\":{\"bgcolor\":\"#E5ECF6\",\"aaxis\":{\"gridcolor\":\"white\",\"linecolor\":\"white\",\"ticks\":\"\"},\"baxis\":{\"gridcolor\":\"white\",\"linecolor\":\"white\",\"ticks\":\"\"},\"caxis\":{\"gridcolor\":\"white\",\"linecolor\":\"white\",\"ticks\":\"\"}},\"coloraxis\":{\"colorbar\":{\"outlinewidth\":0,\"ticks\":\"\"}},\"colorscale\":{\"sequential\":[[0.0,\"#0d0887\"],[0.1111111111111111,\"#46039f\"],[0.2222222222222222,\"#7201a8\"],[0.3333333333333333,\"#9c179e\"],[0.4444444444444444,\"#bd3786\"],[0.5555555555555556,\"#d8576b\"],[0.6666666666666666,\"#ed7953\"],[0.7777777777777778,\"#fb9f3a\"],[0.8888888888888888,\"#fdca26\"],[1.0,\"#f0f921\"]],\"sequentialminus\":[[0.0,\"#0d0887\"],[0.1111111111111111,\"#46039f\"],[0.2222222222222222,\"#7201a8\"],[0.3333333333333333,\"#9c179e\"],[0.4444444444444444,\"#bd3786\"],[0.5555555555555556,\"#d8576b\"],[0.6666666666666666,\"#ed7953\"],[0.7777777777777778,\"#fb9f3a\"],[0.8888888888888888,\"#fdca26\"],[1.0,\"#f0f921\"]],\"diverging\":[[0,\"#8e0152\"],[0.1,\"#c51b7d\"],[0.2,\"#de77ae\"],[0.3,\"#f1b6da\"],[0.4,\"#fde0ef\"],[0.5,\"#f7f7f7\"],[0.6,\"#e6f5d0\"],[0.7,\"#b8e186\"],[0.8,\"#7fbc41\"],[0.9,\"#4d9221\"],[1,\"#276419\"]]},\"xaxis\":{\"gridcolor\":\"white\",\"linecolor\":\"white\",\"ticks\":\"\",\"title\":{\"standoff\":15},\"zerolinecolor\":\"white\",\"automargin\":true,\"zerolinewidth\":2},\"yaxis\":{\"gridcolor\":\"white\",\"linecolor\":\"white\",\"ticks\":\"\",\"title\":{\"standoff\":15},\"zerolinecolor\":\"white\",\"automargin\":true,\"zerolinewidth\":2},\"scene\":{\"xaxis\":{\"backgroundcolor\":\"#E5ECF6\",\"gridcolor\":\"white\",\"linecolor\":\"white\",\"showbackground\":true,\"ticks\":\"\",\"zerolinecolor\":\"white\",\"gridwidth\":2},\"yaxis\":{\"backgroundcolor\":\"#E5ECF6\",\"gridcolor\":\"white\",\"linecolor\":\"white\",\"showbackground\":true,\"ticks\":\"\",\"zerolinecolor\":\"white\",\"gridwidth\":2},\"zaxis\":{\"backgroundcolor\":\"#E5ECF6\",\"gridcolor\":\"white\",\"linecolor\":\"white\",\"showbackground\":true,\"ticks\":\"\",\"zerolinecolor\":\"white\",\"gridwidth\":2}},\"shapedefaults\":{\"line\":{\"color\":\"#2a3f5f\"}},\"annotationdefaults\":{\"arrowcolor\":\"#2a3f5f\",\"arrowhead\":0,\"arrowwidth\":1},\"geo\":{\"bgcolor\":\"white\",\"landcolor\":\"#E5ECF6\",\"subunitcolor\":\"white\",\"showland\":true,\"showlakes\":true,\"lakecolor\":\"white\"},\"title\":{\"x\":0.05},\"mapbox\":{\"style\":\"light\"}}},\"title\":{\"font\":{\"family\":\"Arial\",\"size\":24},\"text\":\"Measure of Sleep Quality\"}},                        {\"responsive\": true}                    ).then(function(){\n",
       "                            \n",
       "var gd = document.getElementById('e2bf5b32-ad26-418d-a32a-918596d21fd6');\n",
       "var x = new MutationObserver(function (mutations, observer) {{\n",
       "        var display = window.getComputedStyle(gd).display;\n",
       "        if (!display || display === 'none') {{\n",
       "            console.log([gd, 'removed!']);\n",
       "            Plotly.purge(gd);\n",
       "            observer.disconnect();\n",
       "        }}\n",
       "}});\n",
       "\n",
       "// Listen for the removal of the full notebook cells\n",
       "var notebookContainer = gd.closest('#notebook-container');\n",
       "if (notebookContainer) {{\n",
       "    x.observe(notebookContainer, {childList: true});\n",
       "}}\n",
       "\n",
       "// Listen for the clearing of the current output cell\n",
       "var outputEl = gd.closest('.output');\n",
       "if (outputEl) {{\n",
       "    x.observe(outputEl, {childList: true});\n",
       "}}\n",
       "\n",
       "                        })                };                });            </script>        </div>"
      ]
     },
     "metadata": {},
     "output_type": "display_data"
    }
   ],
   "source": [
    "location_dim = go.parcats.Dimension(\n",
    "    values = data['location'],\n",
    "    categoryorder = 'array',\n",
    "    categoryarray = ['dorm','home'],\n",
    "    ticktext = ['Dorm', 'Home'],\n",
    "    label = \"Location\"\n",
    ")\n",
    "\n",
    "sleep_partner_dim = go.parcats.Dimension(\n",
    "    values = data['sleep partner?'],\n",
    "    categoryorder = 'array',\n",
    "    categoryarray = ['yes','no'],\n",
    "    ticktext = ['Yes', 'No'],\n",
    "    label = \"Sleep Partner?\"\n",
    ")\n",
    "\n",
    "woke_up_dim = go.parcats.Dimension(\n",
    "    values = data['woke up?'],\n",
    "    categoryorder = 'array',\n",
    "    categoryarray =  ['yes','no'],\n",
    "    ticktext = ['Yes', 'No'],\n",
    "    label = \"Sleep Interrupted?\"\n",
    ")\n",
    "\n",
    "naps_dim = go.parcats.Dimension(\n",
    "    values = data['Naps Taken?'],\n",
    "    categoryorder = 'array',\n",
    "    categoryarray =  ['yes','no'],\n",
    "    ticktext = ['Yes', 'No'],\n",
    "    label = \"Nap Taken?\"\n",
    ")\n",
    "\n",
    "sleep_quality_dim = go.parcats.Dimension(\n",
    "    values = data['quality of sleep'],\n",
    "    categoryorder = 'array',\n",
    "    categoryarray =  [i for i in range(1,6)],\n",
    "    #ticktext = ['Yes', 'No'],\n",
    "    label = \"Sleep Quality\"\n",
    ")\n",
    "\n",
    "sleep_time_dim = go.parcats.Dimension(\n",
    "    values = df['hours'],\n",
    "    categoryorder = 'array',\n",
    "    categoryarray =  [i for i in range(3,11)],\n",
    "    #ticktext = ['Yes', 'No'],\n",
    "    label = \"Total Sleep (Hours)\"\n",
    ")\n",
    "\n",
    "color = data['quality of sleep']\n",
    "#colorscale = [[0, 'lightsteelblue'], [1, 'mediumseagreen']]\n",
    "\n",
    "fig = go.Figure(data = [go.Parcats(dimensions = [sleep_quality_dim, location_dim, sleep_partner_dim, naps_dim, sleep_time_dim],\n",
    "                                  line = {'color': color, 'colorscale': 'Inferno', 'shape': 'hspline'},\n",
    "                                  hoverinfo = 'count+probability',\n",
    "                                  labelfont = {'size':18, 'family':'Arial'},\n",
    "                                  tickfont = {'size':14, 'family':'Arial'})])\n",
    "fig.update_layout(title = {'text':'Measure of Sleep Quality',\n",
    "                          'font': {'family': 'Arial', 'size': 24}})\n",
    "\n",
    "fig.write_html('sleep_parallel_cats.html')\n",
    "fig.write_image(\"sleep_parallel_cats.png\")\n",
    "fig.show()"
   ]
  },
  {
   "cell_type": "code",
   "execution_count": 263,
   "id": "cfab28b2-1f3c-4704-9d7a-e77763280802",
   "metadata": {},
   "outputs": [
    {
     "data": {
      "image/png": "[encoded data removed]",
      "text/plain": [
       "<Figure size 432x288 with 1 Axes>"
      ]
     },
     "metadata": {
      "needs_background": "light"
     },
     "output_type": "display_data"
    }
   ],
   "source": [
    "\n",
    "plt.hist(df_sorted['hours'], bins=8, color='red')\n",
    "\n",
    "# Add labels and title to the plot\n",
    "plt.xlabel('Data')\n",
    "plt.ylabel('Count')\n",
    "plt.title('Histogram of Data')\n",
    "\n",
    "# Show the plot\n",
    "plt.show()"
   ]
  },
  {
   "cell_type": "code",
   "execution_count": null,
   "id": "839a2df2-520b-41ea-b179-0e0147101103",
   "metadata": {},
   "outputs": [],
   "source": []
  }
 ],
 "metadata": {
  "kernelspec": {
   "display_name": "Python 3",
   "language": "python",
   "name": "python3"
  },
  "language_info": {
   "codemirror_mode": {
    "name": "ipython",
    "version": 3
   },
   "file_extension": ".py",
   "mimetype": "text/x-python",
   "name": "python",
   "nbconvert_exporter": "python",
   "pygments_lexer": "ipython3",
   "version": "3.8.8"
  }
 },
 "nbformat": 4,
 "nbformat_minor": 5
}
