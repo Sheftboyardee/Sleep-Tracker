{
 "cells": [
  {
   "cell_type": "code",
   "execution_count": 7,
   "id": "118b8c58-2aa3-478d-ac54-3b21cfcd5d3f",
   "metadata": {},
   "outputs": [],
   "source": [
    "import pandas as pd\n",
    "import numpy as np\n",
    "import matplotlib.pyplot as plt\n",
    "\n",
    "import plotly.express as px"
   ]
  },
  {
   "cell_type": "code",
   "execution_count": 8,
   "id": "3a6b36d6-5d84-4c58-84ff-4ff3e03b573d",
   "metadata": {},
   "outputs": [],
   "source": [
    "#data['naps taken in preceding day'] = data['naps taken in preceding day'].apply(lambda x: 'no' if x == 0 else 'yes')\n",
    "data = pd.read_csv('sleep_tracker.csv').dropna()\n",
    "data['total sleep time'] = data['total sleep time'].str.split(':').apply(lambda x: int(x[0]) * 60 + int(x[1]))\n",
    "data['naps taken in preceding day'] = data['naps taken in preceding day'].apply(lambda x: 0.1 if x == 0 else 1)\n",
    "data['length of nap(s)'] = data['length of nap(s)'].str.replace(' min', '')\n",
    "data['length of nap(s)'] = data['length of nap(s)'].astype(int)\n",
    "data['quality of sleep'] = data['quality of sleep'].astype(int)\n",
    "data = data.rename(columns={\"quality of sleep\": \"Quality of Sleep\"})\n",
    "data = data.rename(columns={'total sleep time': 'total_sleep_time', 'length of nap(s)': 'length of nap(s) (min)', 'naps taken in preceding day': 'Naps Taken?'})\n",
    "#data.head(60)"
   ]
  },
  {
   "cell_type": "code",
   "execution_count": 9,
   "id": "7f1e4966-a02d-462c-b227-a397d6d5254b",
   "metadata": {
    "tags": []
   },
   "outputs": [
    {
     "data": {
      "application/vnd.plotly.v1+json": {
       "config": {
        "plotlyServerURL": "https://plot.ly"
       },
       "data": [
        {
         "customdata": [
          [
           1,
           "1"
          ]
         ],
         "hovertemplate": "<b>%{hovertext}</b><br><br>Total Sleep Time (minutes)=%{x:.0f}<br>Length of Nap (minutes)=%{y}<extra></extra>",
         "hovertext": [
          "2/20/23"
         ],
         "legendgroup": "1",
         "marker": {
          "color": "rgb(0,   0,   4)",
          "size": [
           1
          ],
          "sizemode": "area",
          "sizeref": 0.0025,
          "symbol": "circle"
         },
         "mode": "markers",
         "name": "1",
         "orientation": "v",
         "showlegend": true,
         "type": "scatter",
         "x": [
          180.08026444706346
         ],
         "xaxis": "x",
         "y": [
          180
         ],
         "yaxis": "y"
        },
        {
         "customdata": [
          [
           0.1,
           "2"
          ],
          [
           1,
           "2"
          ],
          [
           0.1,
           "2"
          ],
          [
           0.1,
           "2"
          ],
          [
           0.1,
           "2"
          ],
          [
           1,
           "2"
          ],
          [
           1,
           "2"
          ]
         ],
         "hovertemplate": "<b>%{hovertext}</b><br><br>Total Sleep Time (minutes)=%{x:.0f}<br>Length of Nap (minutes)=%{y}<extra></extra>",
         "hovertext": [
          "2/2/23",
          "2/17/23",
          "2/19/23",
          "3/2/23",
          "3/24/23",
          "3/27/23",
          "3/29/23"
         ],
         "legendgroup": "2",
         "marker": {
          "color": "rgb(86,  16,  108)",
          "size": [
           0.1,
           1,
           0.1,
           0.1,
           0.1,
           1,
           1
          ],
          "sizemode": "area",
          "sizeref": 0.0025,
          "symbol": "circle"
         },
         "mode": "markers",
         "name": "2",
         "orientation": "v",
         "showlegend": true,
         "type": "scatter",
         "x": [
          415.2297464785771,
          539.739470462679,
          240.28278135887103,
          210.38157183444426,
          479.7195435877656,
          539.5981368281355,
          419.57986082007204
         ],
         "xaxis": "x",
         "y": [
          0,
          20,
          0,
          0,
          0,
          120,
          20
         ],
         "yaxis": "y"
        },
        {
         "customdata": [
          [
           0.1,
           "3"
          ],
          [
           0.1,
           "3"
          ],
          [
           0.1,
           "3"
          ],
          [
           0.1,
           "3"
          ],
          [
           0.1,
           "3"
          ],
          [
           1,
           "3"
          ],
          [
           0.1,
           "3"
          ],
          [
           0.1,
           "3"
          ],
          [
           0.1,
           "3"
          ],
          [
           0.1,
           "3"
          ],
          [
           0.1,
           "3"
          ],
          [
           1,
           "3"
          ],
          [
           0.1,
           "3"
          ],
          [
           0.1,
           "3"
          ],
          [
           1,
           "3"
          ],
          [
           1,
           "3"
          ],
          [
           0.1,
           "3"
          ],
          [
           0.1,
           "3"
          ],
          [
           0.1,
           "3"
          ],
          [
           0.1,
           "3"
          ],
          [
           0.1,
           "3"
          ],
          [
           0.1,
           "3"
          ],
          [
           0.1,
           "3"
          ],
          [
           0.1,
           "3"
          ],
          [
           0.1,
           "3"
          ],
          [
           0.1,
           "3"
          ],
          [
           1,
           "3"
          ],
          [
           0.1,
           "3"
          ],
          [
           0.1,
           "3"
          ],
          [
           1,
           "3"
          ],
          [
           0.1,
           "3"
          ],
          [
           0.1,
           "3"
          ],
          [
           0.1,
           "3"
          ]
         ],
         "hovertemplate": "<b>%{hovertext}</b><br><br>Total Sleep Time (minutes)=%{x:.0f}<br>Length of Nap (minutes)=%{y}<extra></extra>",
         "hovertext": [
          "2/4/23",
          "2/6/23",
          "2/10/23",
          "2/11/23",
          "2/12/23",
          "2/13/23",
          "2/14/23",
          "2/16/23",
          "2/18/23",
          "2/21/23",
          "2/23/23",
          "2/25/23",
          "2/26/23",
          "2/28/23",
          "3/1/23",
          "3/3/23",
          "3/4/23",
          "3/5/23",
          "3/6/23",
          "3/7/23",
          "3/8/23",
          "3/9/23",
          "3/12/23",
          "3/15/23",
          "3/19/23",
          "3/20/23",
          "3/21/23",
          "3/22/23",
          "3/23/23",
          "3/26/23",
          "3/28/23",
          "3/30/23",
          "4/1/23"
         ],
         "legendgroup": "3",
         "marker": {
          "color": "rgb(186, 56,  83)",
          "size": [
           0.1,
           0.1,
           0.1,
           0.1,
           0.1,
           1,
           0.1,
           0.1,
           0.1,
           0.1,
           0.1,
           1,
           0.1,
           0.1,
           1,
           1,
           0.1,
           0.1,
           0.1,
           0.1,
           0.1,
           0.1,
           0.1,
           0.1,
           0.1,
           0.1,
           1,
           0.1,
           0.1,
           1,
           0.1,
           0.1,
           0.1
          ],
          "sizemode": "area",
          "sizeref": 0.0025,
          "symbol": "circle"
         },
         "mode": "markers",
         "name": "3",
         "orientation": "v",
         "showlegend": true,
         "type": "scatter",
         "x": [
          540.3172344411319,
          509.58434366600534,
          509.84071526642606,
          480.3003061299288,
          389.74173709800743,
          510.21003517055567,
          369.8394271209896,
          390.3858215276931,
          510.1284120974405,
          299.7122667211773,
          329.67324716125466,
          419.64628672215275,
          359.52210904476283,
          360.4983920736279,
          525.1924421501919,
          449.90892111172485,
          539.9676095307237,
          360.3101276742518,
          494.5416698671708,
          299.70174722891403,
          450.4174875877131,
          420.083516826913,
          389.52640304146047,
          329.75153691633216,
          374.955636824141,
          389.68934264145446,
          299.6509651079777,
          450.32629838771044,
          240.3703568522384,
          299.7362513579744,
          299.9406248602587,
          283.9977335424443,
          450.0949247957769
         ],
         "xaxis": "x",
         "y": [
          0,
          0,
          0,
          0,
          0,
          120,
          0,
          0,
          0,
          0,
          0,
          240,
          0,
          0,
          60,
          180,
          0,
          0,
          0,
          0,
          0,
          0,
          0,
          0,
          0,
          0,
          100,
          0,
          0,
          60,
          0,
          0,
          0
         ],
         "yaxis": "y"
        },
        {
         "customdata": [
          [
           1,
           "4"
          ],
          [
           0.1,
           "4"
          ],
          [
           0.1,
           "4"
          ],
          [
           1,
           "4"
          ],
          [
           0.1,
           "4"
          ],
          [
           1,
           "4"
          ],
          [
           0.1,
           "4"
          ],
          [
           1,
           "4"
          ],
          [
           0.1,
           "4"
          ],
          [
           0.1,
           "4"
          ],
          [
           0.1,
           "4"
          ],
          [
           0.1,
           "4"
          ],
          [
           0.1,
           "4"
          ],
          [
           0.1,
           "4"
          ],
          [
           0.1,
           "4"
          ],
          [
           0.1,
           "4"
          ],
          [
           0.1,
           "4"
          ]
         ],
         "hovertemplate": "<b>%{hovertext}</b><br><br>Total Sleep Time (minutes)=%{x:.0f}<br>Length of Nap (minutes)=%{y}<extra></extra>",
         "hovertext": [
          "2/3/23",
          "2/5/23",
          "2/7/23",
          "2/8/23",
          "2/15/23",
          "2/22/23",
          "2/24/23",
          "2/27/23",
          "3/10/23",
          "3/11/23",
          "3/13/23",
          "3/14/23",
          "3/16/23",
          "3/17/23",
          "3/18/23",
          "3/25/23",
          "3/31/23"
         ],
         "legendgroup": "4",
         "marker": {
          "color": "rgb(248, 143, 14)",
          "size": [
           1,
           0.1,
           0.1,
           1,
           0.1,
           1,
           0.1,
           1,
           0.1,
           0.1,
           0.1,
           0.1,
           0.1,
           0.1,
           0.1,
           0.1,
           0.1
          ],
          "sizemode": "area",
          "sizeref": 0.0025,
          "symbol": "circle"
         },
         "mode": "markers",
         "name": "4",
         "orientation": "v",
         "showlegend": true,
         "type": "scatter",
         "x": [
          515.7202493325242,
          359.646367086422,
          334.24152492701126,
          569.5193529307826,
          509.98306456576387,
          525.312089014347,
          450.05895881702014,
          539.7190114230344,
          629.9375876588413,
          510.3512264399328,
          419.6189050511617,
          539.6298995986515,
          450.31829324593167,
          449.5825885474696,
          510.1322182597182,
          510.302801168913,
          510.4839780958589
         ],
         "xaxis": "x",
         "y": [
          10,
          0,
          0,
          60,
          0,
          30,
          0,
          75,
          0,
          0,
          0,
          0,
          0,
          0,
          0,
          0,
          0
         ],
         "yaxis": "y"
        },
        {
         "customdata": [
          [
           0.1,
           "5"
          ]
         ],
         "hovertemplate": "<b>%{hovertext}</b><br><br>Total Sleep Time (minutes)=%{x:.0f}<br>Length of Nap (minutes)=%{y}<extra></extra>",
         "hovertext": [
          "2/9/23"
         ],
         "legendgroup": "5",
         "marker": {
          "color": "rgb(252, 255, 164)",
          "size": [
           0.1
          ],
          "sizemode": "area",
          "sizeref": 0.0025,
          "symbol": "circle"
         },
         "mode": "markers",
         "name": "5",
         "orientation": "v",
         "showlegend": true,
         "type": "scatter",
         "x": [
          435.2624922152083
         ],
         "xaxis": "x",
         "y": [
          0
         ],
         "yaxis": "y"
        }
       ],
       "layout": {
        "autosize": true,
        "legend": {
         "itemsizing": "constant",
         "title": {
          "text": "Quality of Sleep"
         },
         "tracegroupgap": 0
        },
        "margin": {
         "t": 60
        },
        "template": {
         "data": {
          "bar": [
           {
            "error_x": {
             "color": "#2a3f5f"
            },
            "error_y": {
             "color": "#2a3f5f"
            },
            "marker": {
             "line": {
              "color": "#E5ECF6",
              "width": 0.5
             },
             "pattern": {
              "fillmode": "overlay",
              "size": 10,
              "solidity": 0.2
             }
            },
            "type": "bar"
           }
          ],
          "barpolar": [
           {
            "marker": {
             "line": {
              "color": "#E5ECF6",
              "width": 0.5
             },
             "pattern": {
              "fillmode": "overlay",
              "size": 10,
              "solidity": 0.2
             }
            },
            "type": "barpolar"
           }
          ],
          "carpet": [
           {
            "aaxis": {
             "endlinecolor": "#2a3f5f",
             "gridcolor": "white",
             "linecolor": "white",
             "minorgridcolor": "white",
             "startlinecolor": "#2a3f5f"
            },
            "baxis": {
             "endlinecolor": "#2a3f5f",
             "gridcolor": "white",
             "linecolor": "white",
             "minorgridcolor": "white",
             "startlinecolor": "#2a3f5f"
            },
            "type": "carpet"
           }
          ],
          "choropleth": [
           {
            "colorbar": {
             "outlinewidth": 0,
             "ticks": ""
            },
            "type": "choropleth"
           }
          ],
          "contour": [
           {
            "colorbar": {
             "outlinewidth": 0,
             "ticks": ""
            },
            "colorscale": [
             [
              0,
              "#0d0887"
             ],
             [
              0.1111111111111111,
              "#46039f"
             ],
             [
              0.2222222222222222,
              "#7201a8"
             ],
             [
              0.3333333333333333,
              "#9c179e"
             ],
             [
              0.4444444444444444,
              "#bd3786"
             ],
             [
              0.5555555555555556,
              "#d8576b"
             ],
             [
              0.6666666666666666,
              "#ed7953"
             ],
             [
              0.7777777777777778,
              "#fb9f3a"
             ],
             [
              0.8888888888888888,
              "#fdca26"
             ],
             [
              1,
              "#f0f921"
             ]
            ],
            "type": "contour"
           }
          ],
          "contourcarpet": [
           {
            "colorbar": {
             "outlinewidth": 0,
             "ticks": ""
            },
            "type": "contourcarpet"
           }
          ],
          "heatmap": [
           {
            "colorbar": {
             "outlinewidth": 0,
             "ticks": ""
            },
            "colorscale": [
             [
              0,
              "#0d0887"
             ],
             [
              0.1111111111111111,
              "#46039f"
             ],
             [
              0.2222222222222222,
              "#7201a8"
             ],
             [
              0.3333333333333333,
              "#9c179e"
             ],
             [
              0.4444444444444444,
              "#bd3786"
             ],
             [
              0.5555555555555556,
              "#d8576b"
             ],
             [
              0.6666666666666666,
              "#ed7953"
             ],
             [
              0.7777777777777778,
              "#fb9f3a"
             ],
             [
              0.8888888888888888,
              "#fdca26"
             ],
             [
              1,
              "#f0f921"
             ]
            ],
            "type": "heatmap"
           }
          ],
          "heatmapgl": [
           {
            "colorbar": {
             "outlinewidth": 0,
             "ticks": ""
            },
            "colorscale": [
             [
              0,
              "#0d0887"
             ],
             [
              0.1111111111111111,
              "#46039f"
             ],
             [
              0.2222222222222222,
              "#7201a8"
             ],
             [
              0.3333333333333333,
              "#9c179e"
             ],
             [
              0.4444444444444444,
              "#bd3786"
             ],
             [
              0.5555555555555556,
              "#d8576b"
             ],
             [
              0.6666666666666666,
              "#ed7953"
             ],
             [
              0.7777777777777778,
              "#fb9f3a"
             ],
             [
              0.8888888888888888,
              "#fdca26"
             ],
             [
              1,
              "#f0f921"
             ]
            ],
            "type": "heatmapgl"
           }
          ],
          "histogram": [
           {
            "marker": {
             "pattern": {
              "fillmode": "overlay",
              "size": 10,
              "solidity": 0.2
             }
            },
            "type": "histogram"
           }
          ],
          "histogram2d": [
           {
            "colorbar": {
             "outlinewidth": 0,
             "ticks": ""
            },
            "colorscale": [
             [
              0,
              "#0d0887"
             ],
             [
              0.1111111111111111,
              "#46039f"
             ],
             [
              0.2222222222222222,
              "#7201a8"
             ],
             [
              0.3333333333333333,
              "#9c179e"
             ],
             [
              0.4444444444444444,
              "#bd3786"
             ],
             [
              0.5555555555555556,
              "#d8576b"
             ],
             [
              0.6666666666666666,
              "#ed7953"
             ],
             [
              0.7777777777777778,
              "#fb9f3a"
             ],
             [
              0.8888888888888888,
              "#fdca26"
             ],
             [
              1,
              "#f0f921"
             ]
            ],
            "type": "histogram2d"
           }
          ],
          "histogram2dcontour": [
           {
            "colorbar": {
             "outlinewidth": 0,
             "ticks": ""
            },
            "colorscale": [
             [
              0,
              "#0d0887"
             ],
             [
              0.1111111111111111,
              "#46039f"
             ],
             [
              0.2222222222222222,
              "#7201a8"
             ],
             [
              0.3333333333333333,
              "#9c179e"
             ],
             [
              0.4444444444444444,
              "#bd3786"
             ],
             [
              0.5555555555555556,
              "#d8576b"
             ],
             [
              0.6666666666666666,
              "#ed7953"
             ],
             [
              0.7777777777777778,
              "#fb9f3a"
             ],
             [
              0.8888888888888888,
              "#fdca26"
             ],
             [
              1,
              "#f0f921"
             ]
            ],
            "type": "histogram2dcontour"
           }
          ],
          "mesh3d": [
           {
            "colorbar": {
             "outlinewidth": 0,
             "ticks": ""
            },
            "type": "mesh3d"
           }
          ],
          "parcoords": [
           {
            "line": {
             "colorbar": {
              "outlinewidth": 0,
              "ticks": ""
             }
            },
            "type": "parcoords"
           }
          ],
          "pie": [
           {
            "automargin": true,
            "type": "pie"
           }
          ],
          "scatter": [
           {
            "fillpattern": {
             "fillmode": "overlay",
             "size": 10,
             "solidity": 0.2
            },
            "type": "scatter"
           }
          ],
          "scatter3d": [
           {
            "line": {
             "colorbar": {
              "outlinewidth": 0,
              "ticks": ""
             }
            },
            "marker": {
             "colorbar": {
              "outlinewidth": 0,
              "ticks": ""
             }
            },
            "type": "scatter3d"
           }
          ],
          "scattercarpet": [
           {
            "marker": {
             "colorbar": {
              "outlinewidth": 0,
              "ticks": ""
             }
            },
            "type": "scattercarpet"
           }
          ],
          "scattergeo": [
           {
            "marker": {
             "colorbar": {
              "outlinewidth": 0,
              "ticks": ""
             }
            },
            "type": "scattergeo"
           }
          ],
          "scattergl": [
           {
            "marker": {
             "colorbar": {
              "outlinewidth": 0,
              "ticks": ""
             }
            },
            "type": "scattergl"
           }
          ],
          "scattermapbox": [
           {
            "marker": {
             "colorbar": {
              "outlinewidth": 0,
              "ticks": ""
             }
            },
            "type": "scattermapbox"
           }
          ],
          "scatterpolar": [
           {
            "marker": {
             "colorbar": {
              "outlinewidth": 0,
              "ticks": ""
             }
            },
            "type": "scatterpolar"
           }
          ],
          "scatterpolargl": [
           {
            "marker": {
             "colorbar": {
              "outlinewidth": 0,
              "ticks": ""
             }
            },
            "type": "scatterpolargl"
           }
          ],
          "scatterternary": [
           {
            "marker": {
             "colorbar": {
              "outlinewidth": 0,
              "ticks": ""
             }
            },
            "type": "scatterternary"
           }
          ],
          "surface": [
           {
            "colorbar": {
             "outlinewidth": 0,
             "ticks": ""
            },
            "colorscale": [
             [
              0,
              "#0d0887"
             ],
             [
              0.1111111111111111,
              "#46039f"
             ],
             [
              0.2222222222222222,
              "#7201a8"
             ],
             [
              0.3333333333333333,
              "#9c179e"
             ],
             [
              0.4444444444444444,
              "#bd3786"
             ],
             [
              0.5555555555555556,
              "#d8576b"
             ],
             [
              0.6666666666666666,
              "#ed7953"
             ],
             [
              0.7777777777777778,
              "#fb9f3a"
             ],
             [
              0.8888888888888888,
              "#fdca26"
             ],
             [
              1,
              "#f0f921"
             ]
            ],
            "type": "surface"
           }
          ],
          "table": [
           {
            "cells": {
             "fill": {
              "color": "#EBF0F8"
             },
             "line": {
              "color": "white"
             }
            },
            "header": {
             "fill": {
              "color": "#C8D4E3"
             },
             "line": {
              "color": "white"
             }
            },
            "type": "table"
           }
          ]
         },
         "layout": {
          "annotationdefaults": {
           "arrowcolor": "#2a3f5f",
           "arrowhead": 0,
           "arrowwidth": 1
          },
          "autotypenumbers": "strict",
          "coloraxis": {
           "colorbar": {
            "outlinewidth": 0,
            "ticks": ""
           }
          },
          "colorscale": {
           "diverging": [
            [
             0,
             "#8e0152"
            ],
            [
             0.1,
             "#c51b7d"
            ],
            [
             0.2,
             "#de77ae"
            ],
            [
             0.3,
             "#f1b6da"
            ],
            [
             0.4,
             "#fde0ef"
            ],
            [
             0.5,
             "#f7f7f7"
            ],
            [
             0.6,
             "#e6f5d0"
            ],
            [
             0.7,
             "#b8e186"
            ],
            [
             0.8,
             "#7fbc41"
            ],
            [
             0.9,
             "#4d9221"
            ],
            [
             1,
             "#276419"
            ]
           ],
           "sequential": [
            [
             0,
             "#0d0887"
            ],
            [
             0.1111111111111111,
             "#46039f"
            ],
            [
             0.2222222222222222,
             "#7201a8"
            ],
            [
             0.3333333333333333,
             "#9c179e"
            ],
            [
             0.4444444444444444,
             "#bd3786"
            ],
            [
             0.5555555555555556,
             "#d8576b"
            ],
            [
             0.6666666666666666,
             "#ed7953"
            ],
            [
             0.7777777777777778,
             "#fb9f3a"
            ],
            [
             0.8888888888888888,
             "#fdca26"
            ],
            [
             1,
             "#f0f921"
            ]
           ],
           "sequentialminus": [
            [
             0,
             "#0d0887"
            ],
            [
             0.1111111111111111,
             "#46039f"
            ],
            [
             0.2222222222222222,
             "#7201a8"
            ],
            [
             0.3333333333333333,
             "#9c179e"
            ],
            [
             0.4444444444444444,
             "#bd3786"
            ],
            [
             0.5555555555555556,
             "#d8576b"
            ],
            [
             0.6666666666666666,
             "#ed7953"
            ],
            [
             0.7777777777777778,
             "#fb9f3a"
            ],
            [
             0.8888888888888888,
             "#fdca26"
            ],
            [
             1,
             "#f0f921"
            ]
           ]
          },
          "colorway": [
           "#636efa",
           "#EF553B",
           "#00cc96",
           "#ab63fa",
           "#FFA15A",
           "#19d3f3",
           "#FF6692",
           "#B6E880",
           "#FF97FF",
           "#FECB52"
          ],
          "font": {
           "color": "#2a3f5f"
          },
          "geo": {
           "bgcolor": "white",
           "lakecolor": "white",
           "landcolor": "#E5ECF6",
           "showlakes": true,
           "showland": true,
           "subunitcolor": "white"
          },
          "hoverlabel": {
           "align": "left"
          },
          "hovermode": "closest",
          "mapbox": {
           "style": "light"
          },
          "paper_bgcolor": "white",
          "plot_bgcolor": "#E5ECF6",
          "polar": {
           "angularaxis": {
            "gridcolor": "white",
            "linecolor": "white",
            "ticks": ""
           },
           "bgcolor": "#E5ECF6",
           "radialaxis": {
            "gridcolor": "white",
            "linecolor": "white",
            "ticks": ""
           }
          },
          "scene": {
           "xaxis": {
            "backgroundcolor": "#E5ECF6",
            "gridcolor": "white",
            "gridwidth": 2,
            "linecolor": "white",
            "showbackground": true,
            "ticks": "",
            "zerolinecolor": "white"
           },
           "yaxis": {
            "backgroundcolor": "#E5ECF6",
            "gridcolor": "white",
            "gridwidth": 2,
            "linecolor": "white",
            "showbackground": true,
            "ticks": "",
            "zerolinecolor": "white"
           },
           "zaxis": {
            "backgroundcolor": "#E5ECF6",
            "gridcolor": "white",
            "gridwidth": 2,
            "linecolor": "white",
            "showbackground": true,
            "ticks": "",
            "zerolinecolor": "white"
           }
          },
          "shapedefaults": {
           "line": {
            "color": "#2a3f5f"
           }
          },
          "ternary": {
           "aaxis": {
            "gridcolor": "white",
            "linecolor": "white",
            "ticks": ""
           },
           "baxis": {
            "gridcolor": "white",
            "linecolor": "white",
            "ticks": ""
           },
           "bgcolor": "#E5ECF6",
           "caxis": {
            "gridcolor": "white",
            "linecolor": "white",
            "ticks": ""
           }
          },
          "title": {
           "x": 0.05
          },
          "xaxis": {
           "automargin": true,
           "gridcolor": "white",
           "linecolor": "white",
           "ticks": "",
           "title": {
            "standoff": 15
           },
           "zerolinecolor": "white",
           "zerolinewidth": 2
          },
          "yaxis": {
           "automargin": true,
           "gridcolor": "white",
           "linecolor": "white",
           "ticks": "",
           "title": {
            "standoff": 15
           },
           "zerolinecolor": "white",
           "zerolinewidth": 2
          }
         }
        },
        "title": {
         "text": "Did Nap Length Impact Total Sleep Time?",
         "x": 0.5
        },
        "xaxis": {
         "anchor": "y",
         "autorange": true,
         "domain": [
          0,
          1
         ],
         "range": [
          144.48517758083045,
          658.7766540488782
         ],
         "title": {
          "text": "Total Sleep Time (minutes)"
         },
         "type": "linear"
        },
        "yaxis": {
         "anchor": "x",
         "autorange": true,
         "domain": [
          0,
          1
         ],
         "range": [
          -17.091034175582124,
          263.6902415661242
         ],
         "title": {
          "text": "Length of Nap (minutes)"
         },
         "type": "linear"
        }
       }
      },
      "image/png": "[encoded data removed]",
      "text/html": [
       "<div>                            <div id=\"6abb8c42-9c32-42a6-b6d7-539b66f8b3eb\" class=\"plotly-graph-div\" style=\"height:600px; width:100%;\"></div>            <script type=\"text/javascript\">                require([\"plotly\"], function(Plotly) {                    window.PLOTLYENV=window.PLOTLYENV || {};                                    if (document.getElementById(\"6abb8c42-9c32-42a6-b6d7-539b66f8b3eb\")) {                    Plotly.newPlot(                        \"6abb8c42-9c32-42a6-b6d7-539b66f8b3eb\",                        [{\"customdata\":[[1.0,\"1\"]],\"hovertemplate\":\"<b>%{hovertext}</b><br><br>Total Sleep Time (minutes)=%{x:.0f}<br>Length of Nap (minutes)=%{y}<extra></extra>\",\"hovertext\":[\"2/20/23\"],\"legendgroup\":\"1\",\"marker\":{\"color\":\"rgb(0,   0,   4)\",\"size\":[1.0],\"sizemode\":\"area\",\"sizeref\":0.0025,\"symbol\":\"circle\"},\"mode\":\"markers\",\"name\":\"1\",\"orientation\":\"v\",\"showlegend\":true,\"x\":[180.08026444706346],\"xaxis\":\"x\",\"y\":[180],\"yaxis\":\"y\",\"type\":\"scatter\"},{\"customdata\":[[0.1,\"2\"],[1.0,\"2\"],[0.1,\"2\"],[0.1,\"2\"],[0.1,\"2\"],[1.0,\"2\"],[1.0,\"2\"]],\"hovertemplate\":\"<b>%{hovertext}</b><br><br>Total Sleep Time (minutes)=%{x:.0f}<br>Length of Nap (minutes)=%{y}<extra></extra>\",\"hovertext\":[\"2/2/23\",\"2/17/23\",\"2/19/23\",\"3/2/23\",\"3/24/23\",\"3/27/23\",\"3/29/23\"],\"legendgroup\":\"2\",\"marker\":{\"color\":\"rgb(86,  16,  108)\",\"size\":[0.1,1.0,0.1,0.1,0.1,1.0,1.0],\"sizemode\":\"area\",\"sizeref\":0.0025,\"symbol\":\"circle\"},\"mode\":\"markers\",\"name\":\"2\",\"orientation\":\"v\",\"showlegend\":true,\"x\":[415.2297464785771,539.739470462679,240.28278135887103,210.38157183444426,479.7195435877656,539.5981368281355,419.57986082007204],\"xaxis\":\"x\",\"y\":[0,20,0,0,0,120,20],\"yaxis\":\"y\",\"type\":\"scatter\"},{\"customdata\":[[0.1,\"3\"],[0.1,\"3\"],[0.1,\"3\"],[0.1,\"3\"],[0.1,\"3\"],[1.0,\"3\"],[0.1,\"3\"],[0.1,\"3\"],[0.1,\"3\"],[0.1,\"3\"],[0.1,\"3\"],[1.0,\"3\"],[0.1,\"3\"],[0.1,\"3\"],[1.0,\"3\"],[1.0,\"3\"],[0.1,\"3\"],[0.1,\"3\"],[0.1,\"3\"],[0.1,\"3\"],[0.1,\"3\"],[0.1,\"3\"],[0.1,\"3\"],[0.1,\"3\"],[0.1,\"3\"],[0.1,\"3\"],[1.0,\"3\"],[0.1,\"3\"],[0.1,\"3\"],[1.0,\"3\"],[0.1,\"3\"],[0.1,\"3\"],[0.1,\"3\"]],\"hovertemplate\":\"<b>%{hovertext}</b><br><br>Total Sleep Time (minutes)=%{x:.0f}<br>Length of Nap (minutes)=%{y}<extra></extra>\",\"hovertext\":[\"2/4/23\",\"2/6/23\",\"2/10/23\",\"2/11/23\",\"2/12/23\",\"2/13/23\",\"2/14/23\",\"2/16/23\",\"2/18/23\",\"2/21/23\",\"2/23/23\",\"2/25/23\",\"2/26/23\",\"2/28/23\",\"3/1/23\",\"3/3/23\",\"3/4/23\",\"3/5/23\",\"3/6/23\",\"3/7/23\",\"3/8/23\",\"3/9/23\",\"3/12/23\",\"3/15/23\",\"3/19/23\",\"3/20/23\",\"3/21/23\",\"3/22/23\",\"3/23/23\",\"3/26/23\",\"3/28/23\",\"3/30/23\",\"4/1/23\"],\"legendgroup\":\"3\",\"marker\":{\"color\":\"rgb(186, 56,  83)\",\"size\":[0.1,0.1,0.1,0.1,0.1,1.0,0.1,0.1,0.1,0.1,0.1,1.0,0.1,0.1,1.0,1.0,0.1,0.1,0.1,0.1,0.1,0.1,0.1,0.1,0.1,0.1,1.0,0.1,0.1,1.0,0.1,0.1,0.1],\"sizemode\":\"area\",\"sizeref\":0.0025,\"symbol\":\"circle\"},\"mode\":\"markers\",\"name\":\"3\",\"orientation\":\"v\",\"showlegend\":true,\"x\":[540.3172344411319,509.58434366600534,509.84071526642606,480.3003061299288,389.74173709800743,510.21003517055567,369.8394271209896,390.3858215276931,510.1284120974405,299.7122667211773,329.67324716125466,419.64628672215275,359.52210904476283,360.4983920736279,525.1924421501919,449.90892111172485,539.9676095307237,360.3101276742518,494.5416698671708,299.70174722891403,450.4174875877131,420.083516826913,389.52640304146047,329.75153691633216,374.955636824141,389.68934264145446,299.6509651079777,450.32629838771044,240.3703568522384,299.7362513579744,299.9406248602587,283.9977335424443,450.0949247957769],\"xaxis\":\"x\",\"y\":[0,0,0,0,0,120,0,0,0,0,0,240,0,0,60,180,0,0,0,0,0,0,0,0,0,0,100,0,0,60,0,0,0],\"yaxis\":\"y\",\"type\":\"scatter\"},{\"customdata\":[[1.0,\"4\"],[0.1,\"4\"],[0.1,\"4\"],[1.0,\"4\"],[0.1,\"4\"],[1.0,\"4\"],[0.1,\"4\"],[1.0,\"4\"],[0.1,\"4\"],[0.1,\"4\"],[0.1,\"4\"],[0.1,\"4\"],[0.1,\"4\"],[0.1,\"4\"],[0.1,\"4\"],[0.1,\"4\"],[0.1,\"4\"]],\"hovertemplate\":\"<b>%{hovertext}</b><br><br>Total Sleep Time (minutes)=%{x:.0f}<br>Length of Nap (minutes)=%{y}<extra></extra>\",\"hovertext\":[\"2/3/23\",\"2/5/23\",\"2/7/23\",\"2/8/23\",\"2/15/23\",\"2/22/23\",\"2/24/23\",\"2/27/23\",\"3/10/23\",\"3/11/23\",\"3/13/23\",\"3/14/23\",\"3/16/23\",\"3/17/23\",\"3/18/23\",\"3/25/23\",\"3/31/23\"],\"legendgroup\":\"4\",\"marker\":{\"color\":\"rgb(248, 143, 14)\",\"size\":[1.0,0.1,0.1,1.0,0.1,1.0,0.1,1.0,0.1,0.1,0.1,0.1,0.1,0.1,0.1,0.1,0.1],\"sizemode\":\"area\",\"sizeref\":0.0025,\"symbol\":\"circle\"},\"mode\":\"markers\",\"name\":\"4\",\"orientation\":\"v\",\"showlegend\":true,\"x\":[515.7202493325242,359.646367086422,334.24152492701126,569.5193529307826,509.98306456576387,525.312089014347,450.05895881702014,539.7190114230344,629.9375876588413,510.3512264399328,419.6189050511617,539.6298995986515,450.31829324593167,449.5825885474696,510.1322182597182,510.302801168913,510.4839780958589],\"xaxis\":\"x\",\"y\":[10,0,0,60,0,30,0,75,0,0,0,0,0,0,0,0,0],\"yaxis\":\"y\",\"type\":\"scatter\"},{\"customdata\":[[0.1,\"5\"]],\"hovertemplate\":\"<b>%{hovertext}</b><br><br>Total Sleep Time (minutes)=%{x:.0f}<br>Length of Nap (minutes)=%{y}<extra></extra>\",\"hovertext\":[\"2/9/23\"],\"legendgroup\":\"5\",\"marker\":{\"color\":\"rgb(252, 255, 164)\",\"size\":[0.1],\"sizemode\":\"area\",\"sizeref\":0.0025,\"symbol\":\"circle\"},\"mode\":\"markers\",\"name\":\"5\",\"orientation\":\"v\",\"showlegend\":true,\"x\":[435.2624922152083],\"xaxis\":\"x\",\"y\":[0],\"yaxis\":\"y\",\"type\":\"scatter\"}],                        {\"template\":{\"data\":{\"histogram2dcontour\":[{\"type\":\"histogram2dcontour\",\"colorbar\":{\"outlinewidth\":0,\"ticks\":\"\"},\"colorscale\":[[0.0,\"#0d0887\"],[0.1111111111111111,\"#46039f\"],[0.2222222222222222,\"#7201a8\"],[0.3333333333333333,\"#9c179e\"],[0.4444444444444444,\"#bd3786\"],[0.5555555555555556,\"#d8576b\"],[0.6666666666666666,\"#ed7953\"],[0.7777777777777778,\"#fb9f3a\"],[0.8888888888888888,\"#fdca26\"],[1.0,\"#f0f921\"]]}],\"choropleth\":[{\"type\":\"choropleth\",\"colorbar\":{\"outlinewidth\":0,\"ticks\":\"\"}}],\"histogram2d\":[{\"type\":\"histogram2d\",\"colorbar\":{\"outlinewidth\":0,\"ticks\":\"\"},\"colorscale\":[[0.0,\"#0d0887\"],[0.1111111111111111,\"#46039f\"],[0.2222222222222222,\"#7201a8\"],[0.3333333333333333,\"#9c179e\"],[0.4444444444444444,\"#bd3786\"],[0.5555555555555556,\"#d8576b\"],[0.6666666666666666,\"#ed7953\"],[0.7777777777777778,\"#fb9f3a\"],[0.8888888888888888,\"#fdca26\"],[1.0,\"#f0f921\"]]}],\"heatmap\":[{\"type\":\"heatmap\",\"colorbar\":{\"outlinewidth\":0,\"ticks\":\"\"},\"colorscale\":[[0.0,\"#0d0887\"],[0.1111111111111111,\"#46039f\"],[0.2222222222222222,\"#7201a8\"],[0.3333333333333333,\"#9c179e\"],[0.4444444444444444,\"#bd3786\"],[0.5555555555555556,\"#d8576b\"],[0.6666666666666666,\"#ed7953\"],[0.7777777777777778,\"#fb9f3a\"],[0.8888888888888888,\"#fdca26\"],[1.0,\"#f0f921\"]]}],\"heatmapgl\":[{\"type\":\"heatmapgl\",\"colorbar\":{\"outlinewidth\":0,\"ticks\":\"\"},\"colorscale\":[[0.0,\"#0d0887\"],[0.1111111111111111,\"#46039f\"],[0.2222222222222222,\"#7201a8\"],[0.3333333333333333,\"#9c179e\"],[0.4444444444444444,\"#bd3786\"],[0.5555555555555556,\"#d8576b\"],[0.6666666666666666,\"#ed7953\"],[0.7777777777777778,\"#fb9f3a\"],[0.8888888888888888,\"#fdca26\"],[1.0,\"#f0f921\"]]}],\"contourcarpet\":[{\"type\":\"contourcarpet\",\"colorbar\":{\"outlinewidth\":0,\"ticks\":\"\"}}],\"contour\":[{\"type\":\"contour\",\"colorbar\":{\"outlinewidth\":0,\"ticks\":\"\"},\"colorscale\":[[0.0,\"#0d0887\"],[0.1111111111111111,\"#46039f\"],[0.2222222222222222,\"#7201a8\"],[0.3333333333333333,\"#9c179e\"],[0.4444444444444444,\"#bd3786\"],[0.5555555555555556,\"#d8576b\"],[0.6666666666666666,\"#ed7953\"],[0.7777777777777778,\"#fb9f3a\"],[0.8888888888888888,\"#fdca26\"],[1.0,\"#f0f921\"]]}],\"surface\":[{\"type\":\"surface\",\"colorbar\":{\"outlinewidth\":0,\"ticks\":\"\"},\"colorscale\":[[0.0,\"#0d0887\"],[0.1111111111111111,\"#46039f\"],[0.2222222222222222,\"#7201a8\"],[0.3333333333333333,\"#9c179e\"],[0.4444444444444444,\"#bd3786\"],[0.5555555555555556,\"#d8576b\"],[0.6666666666666666,\"#ed7953\"],[0.7777777777777778,\"#fb9f3a\"],[0.8888888888888888,\"#fdca26\"],[1.0,\"#f0f921\"]]}],\"mesh3d\":[{\"type\":\"mesh3d\",\"colorbar\":{\"outlinewidth\":0,\"ticks\":\"\"}}],\"scatter\":[{\"fillpattern\":{\"fillmode\":\"overlay\",\"size\":10,\"solidity\":0.2},\"type\":\"scatter\"}],\"parcoords\":[{\"type\":\"parcoords\",\"line\":{\"colorbar\":{\"outlinewidth\":0,\"ticks\":\"\"}}}],\"scatterpolargl\":[{\"type\":\"scatterpolargl\",\"marker\":{\"colorbar\":{\"outlinewidth\":0,\"ticks\":\"\"}}}],\"bar\":[{\"error_x\":{\"color\":\"#2a3f5f\"},\"error_y\":{\"color\":\"#2a3f5f\"},\"marker\":{\"line\":{\"color\":\"#E5ECF6\",\"width\":0.5},\"pattern\":{\"fillmode\":\"overlay\",\"size\":10,\"solidity\":0.2}},\"type\":\"bar\"}],\"scattergeo\":[{\"type\":\"scattergeo\",\"marker\":{\"colorbar\":{\"outlinewidth\":0,\"ticks\":\"\"}}}],\"scatterpolar\":[{\"type\":\"scatterpolar\",\"marker\":{\"colorbar\":{\"outlinewidth\":0,\"ticks\":\"\"}}}],\"histogram\":[{\"marker\":{\"pattern\":{\"fillmode\":\"overlay\",\"size\":10,\"solidity\":0.2}},\"type\":\"histogram\"}],\"scattergl\":[{\"type\":\"scattergl\",\"marker\":{\"colorbar\":{\"outlinewidth\":0,\"ticks\":\"\"}}}],\"scatter3d\":[{\"type\":\"scatter3d\",\"line\":{\"colorbar\":{\"outlinewidth\":0,\"ticks\":\"\"}},\"marker\":{\"colorbar\":{\"outlinewidth\":0,\"ticks\":\"\"}}}],\"scattermapbox\":[{\"type\":\"scattermapbox\",\"marker\":{\"colorbar\":{\"outlinewidth\":0,\"ticks\":\"\"}}}],\"scatterternary\":[{\"type\":\"scatterternary\",\"marker\":{\"colorbar\":{\"outlinewidth\":0,\"ticks\":\"\"}}}],\"scattercarpet\":[{\"type\":\"scattercarpet\",\"marker\":{\"colorbar\":{\"outlinewidth\":0,\"ticks\":\"\"}}}],\"carpet\":[{\"aaxis\":{\"endlinecolor\":\"#2a3f5f\",\"gridcolor\":\"white\",\"linecolor\":\"white\",\"minorgridcolor\":\"white\",\"startlinecolor\":\"#2a3f5f\"},\"baxis\":{\"endlinecolor\":\"#2a3f5f\",\"gridcolor\":\"white\",\"linecolor\":\"white\",\"minorgridcolor\":\"white\",\"startlinecolor\":\"#2a3f5f\"},\"type\":\"carpet\"}],\"table\":[{\"cells\":{\"fill\":{\"color\":\"#EBF0F8\"},\"line\":{\"color\":\"white\"}},\"header\":{\"fill\":{\"color\":\"#C8D4E3\"},\"line\":{\"color\":\"white\"}},\"type\":\"table\"}],\"barpolar\":[{\"marker\":{\"line\":{\"color\":\"#E5ECF6\",\"width\":0.5},\"pattern\":{\"fillmode\":\"overlay\",\"size\":10,\"solidity\":0.2}},\"type\":\"barpolar\"}],\"pie\":[{\"automargin\":true,\"type\":\"pie\"}]},\"layout\":{\"autotypenumbers\":\"strict\",\"colorway\":[\"#636efa\",\"#EF553B\",\"#00cc96\",\"#ab63fa\",\"#FFA15A\",\"#19d3f3\",\"#FF6692\",\"#B6E880\",\"#FF97FF\",\"#FECB52\"],\"font\":{\"color\":\"#2a3f5f\"},\"hovermode\":\"closest\",\"hoverlabel\":{\"align\":\"left\"},\"paper_bgcolor\":\"white\",\"plot_bgcolor\":\"#E5ECF6\",\"polar\":{\"bgcolor\":\"#E5ECF6\",\"angularaxis\":{\"gridcolor\":\"white\",\"linecolor\":\"white\",\"ticks\":\"\"},\"radialaxis\":{\"gridcolor\":\"white\",\"linecolor\":\"white\",\"ticks\":\"\"}},\"ternary\":{\"bgcolor\":\"#E5ECF6\",\"aaxis\":{\"gridcolor\":\"white\",\"linecolor\":\"white\",\"ticks\":\"\"},\"baxis\":{\"gridcolor\":\"white\",\"linecolor\":\"white\",\"ticks\":\"\"},\"caxis\":{\"gridcolor\":\"white\",\"linecolor\":\"white\",\"ticks\":\"\"}},\"coloraxis\":{\"colorbar\":{\"outlinewidth\":0,\"ticks\":\"\"}},\"colorscale\":{\"sequential\":[[0.0,\"#0d0887\"],[0.1111111111111111,\"#46039f\"],[0.2222222222222222,\"#7201a8\"],[0.3333333333333333,\"#9c179e\"],[0.4444444444444444,\"#bd3786\"],[0.5555555555555556,\"#d8576b\"],[0.6666666666666666,\"#ed7953\"],[0.7777777777777778,\"#fb9f3a\"],[0.8888888888888888,\"#fdca26\"],[1.0,\"#f0f921\"]],\"sequentialminus\":[[0.0,\"#0d0887\"],[0.1111111111111111,\"#46039f\"],[0.2222222222222222,\"#7201a8\"],[0.3333333333333333,\"#9c179e\"],[0.4444444444444444,\"#bd3786\"],[0.5555555555555556,\"#d8576b\"],[0.6666666666666666,\"#ed7953\"],[0.7777777777777778,\"#fb9f3a\"],[0.8888888888888888,\"#fdca26\"],[1.0,\"#f0f921\"]],\"diverging\":[[0,\"#8e0152\"],[0.1,\"#c51b7d\"],[0.2,\"#de77ae\"],[0.3,\"#f1b6da\"],[0.4,\"#fde0ef\"],[0.5,\"#f7f7f7\"],[0.6,\"#e6f5d0\"],[0.7,\"#b8e186\"],[0.8,\"#7fbc41\"],[0.9,\"#4d9221\"],[1,\"#276419\"]]},\"xaxis\":{\"gridcolor\":\"white\",\"linecolor\":\"white\",\"ticks\":\"\",\"title\":{\"standoff\":15},\"zerolinecolor\":\"white\",\"automargin\":true,\"zerolinewidth\":2},\"yaxis\":{\"gridcolor\":\"white\",\"linecolor\":\"white\",\"ticks\":\"\",\"title\":{\"standoff\":15},\"zerolinecolor\":\"white\",\"automargin\":true,\"zerolinewidth\":2},\"scene\":{\"xaxis\":{\"backgroundcolor\":\"#E5ECF6\",\"gridcolor\":\"white\",\"linecolor\":\"white\",\"showbackground\":true,\"ticks\":\"\",\"zerolinecolor\":\"white\",\"gridwidth\":2},\"yaxis\":{\"backgroundcolor\":\"#E5ECF6\",\"gridcolor\":\"white\",\"linecolor\":\"white\",\"showbackground\":true,\"ticks\":\"\",\"zerolinecolor\":\"white\",\"gridwidth\":2},\"zaxis\":{\"backgroundcolor\":\"#E5ECF6\",\"gridcolor\":\"white\",\"linecolor\":\"white\",\"showbackground\":true,\"ticks\":\"\",\"zerolinecolor\":\"white\",\"gridwidth\":2}},\"shapedefaults\":{\"line\":{\"color\":\"#2a3f5f\"}},\"annotationdefaults\":{\"arrowcolor\":\"#2a3f5f\",\"arrowhead\":0,\"arrowwidth\":1},\"geo\":{\"bgcolor\":\"white\",\"landcolor\":\"#E5ECF6\",\"subunitcolor\":\"white\",\"showland\":true,\"showlakes\":true,\"lakecolor\":\"white\"},\"title\":{\"x\":0.05},\"mapbox\":{\"style\":\"light\"}}},\"xaxis\":{\"anchor\":\"y\",\"domain\":[0.0,1.0],\"title\":{\"text\":\"Total Sleep Time (minutes)\"}},\"yaxis\":{\"anchor\":\"x\",\"domain\":[0.0,1.0],\"title\":{\"text\":\"Length of Nap (minutes)\"}},\"legend\":{\"title\":{\"text\":\"Quality of Sleep\"},\"tracegroupgap\":0,\"itemsizing\":\"constant\"},\"margin\":{\"t\":60},\"height\":600,\"title\":{\"text\":\"Did Nap Length Impact Total Sleep Time?\",\"x\":0.5}},                        {\"responsive\": true}                    ).then(function(){\n",
       "                            \n",
       "var gd = document.getElementById('6abb8c42-9c32-42a6-b6d7-539b66f8b3eb');\n",
       "var x = new MutationObserver(function (mutations, observer) {{\n",
       "        var display = window.getComputedStyle(gd).display;\n",
       "        if (!display || display === 'none') {{\n",
       "            console.log([gd, 'removed!']);\n",
       "            Plotly.purge(gd);\n",
       "            observer.disconnect();\n",
       "        }}\n",
       "}});\n",
       "\n",
       "// Listen for the removal of the full notebook cells\n",
       "var notebookContainer = gd.closest('#notebook-container');\n",
       "if (notebookContainer) {{\n",
       "    x.observe(notebookContainer, {childList: true});\n",
       "}}\n",
       "\n",
       "// Listen for the clearing of the current output cell\n",
       "var outputEl = gd.closest('.output');\n",
       "if (outputEl) {{\n",
       "    x.observe(outputEl, {childList: true});\n",
       "}}\n",
       "\n",
       "                        })                };                });            </script>        </div>"
      ]
     },
     "metadata": {},
     "output_type": "display_data"
    }
   ],
   "source": [
    "data['Quality of Sleep'] = data['Quality of Sleep'].astype(str)\n",
    "category_order = ['1', '2', '3', '4', '5']\n",
    "color_map = {\n",
    "    '1': 'rgb(0,   0,   4)',   # Dark Grey\n",
    "    '2': 'rgb(86,  16,  108)', # Purple\n",
    "    '3': 'rgb(186, 56,  83)',  # Red\n",
    "    '4': 'rgb(248, 143, 14)',  # Orange\n",
    "    '5': 'rgb(252, 255, 164)'  # Yellow\n",
    "}\n",
    "\n",
    "\n",
    "# Jitter for the overlapping zero axis points. Kinda negligible, but it works\n",
    "jitter = 0.5\n",
    "data['total_sleep_time'] += np.random.uniform(-jitter, jitter, size = len(data))\n",
    "\n",
    "fig = px.scatter(data, x = \"total_sleep_time\", y =  \"length of nap(s) (min)\",\n",
    "                 hover_name = data[\"date (night of)\"].str.upper(), \n",
    "                 color = \"Quality of Sleep\",\n",
    "                 category_orders={\"Quality of Sleep\": category_order},\n",
    "                 color_discrete_map = color_map,\n",
    "                 size = 'Naps Taken?', size_max = 20,\n",
    "                 labels = {'length of nap(s) (min)':'Length of Nap (minutes)', 'total_sleep_time':'Total Sleep Time (minutes)'},\n",
    "                 hover_data = {'Naps Taken?':False, 'Quality of Sleep':False, 'total_sleep_time':':.0f'},\n",
    "                 height = 600,\n",
    "               )\n",
    "fig.update_layout(title = \"Did Nap Length Impact Total Sleep Time?\", title_x = 0.5)\n",
    "\n",
    "#fig.write_html('scatter.html')\n",
    "#fig.write_image('scatter.png')\n",
    "fig.show()"
   ]
  },
  {
   "cell_type": "code",
   "execution_count": null,
   "id": "90f62c04-16cc-469f-bdd6-50756b1e37d6",
   "metadata": {},
   "outputs": [],
   "source": []
  }
 ],
 "metadata": {
  "kernelspec": {
   "display_name": "Python 3",
   "language": "python",
   "name": "python3"
  },
  "language_info": {
   "codemirror_mode": {
    "name": "ipython",
    "version": 3
   },
   "file_extension": ".py",
   "mimetype": "text/x-python",
   "name": "python",
   "nbconvert_exporter": "python",
   "pygments_lexer": "ipython3",
   "version": "3.8.8"
  }
 },
 "nbformat": 4,
 "nbformat_minor": 5
}
